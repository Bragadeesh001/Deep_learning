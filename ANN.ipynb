{
  "nbformat": 4,
  "nbformat_minor": 0,
  "metadata": {
    "colab": {
      "provenance": [],
      "collapsed_sections": []
    },
    "kernelspec": {
      "name": "python3",
      "display_name": "Python 3"
    },
    "language_info": {
      "name": "python"
    },
    "accelerator": "GPU"
  },
  "cells": [
    {
      "cell_type": "code",
      "execution_count": 36,
      "metadata": {
        "colab": {
          "base_uri": "https://localhost:8080/",
          "height": 1000
        },
        "id": "sCgSLt9StFCi",
        "outputId": "d5840433-4100-408d-d8c2-7d39c2b01caa"
      },
      "outputs": [
        {
          "output_type": "stream",
          "name": "stdout",
          "text": [
            "Looking in indexes: https://pypi.org/simple, https://us-python.pkg.dev/colab-wheels/public/simple/\n",
            "Collecting tensorflow-gpu\n",
            "  Downloading tensorflow_gpu-2.10.0-cp37-cp37m-manylinux_2_17_x86_64.manylinux2014_x86_64.whl (578.0 MB)\n",
            "\u001b[K     |████████████████████████████████| 578.0 MB 16 kB/s \n",
            "\u001b[?25hCollecting keras<2.11,>=2.10.0\n",
            "  Downloading keras-2.10.0-py2.py3-none-any.whl (1.7 MB)\n",
            "\u001b[K     |████████████████████████████████| 1.7 MB 51.2 MB/s \n",
            "\u001b[?25hRequirement already satisfied: wrapt>=1.11.0 in /usr/local/lib/python3.7/dist-packages (from tensorflow-gpu) (1.14.1)\n",
            "Requirement already satisfied: google-pasta>=0.1.1 in /usr/local/lib/python3.7/dist-packages (from tensorflow-gpu) (0.2.0)\n",
            "Requirement already satisfied: protobuf<3.20,>=3.9.2 in /usr/local/lib/python3.7/dist-packages (from tensorflow-gpu) (3.17.3)\n",
            "Requirement already satisfied: six>=1.12.0 in /usr/local/lib/python3.7/dist-packages (from tensorflow-gpu) (1.15.0)\n",
            "Collecting gast<=0.4.0,>=0.2.1\n",
            "  Downloading gast-0.4.0-py3-none-any.whl (9.8 kB)\n",
            "Requirement already satisfied: typing-extensions>=3.6.6 in /usr/local/lib/python3.7/dist-packages (from tensorflow-gpu) (4.1.1)\n",
            "Collecting tensorboard<2.11,>=2.10\n",
            "  Downloading tensorboard-2.10.0-py3-none-any.whl (5.9 MB)\n",
            "\u001b[K     |████████████████████████████████| 5.9 MB 54.8 MB/s \n",
            "\u001b[?25hRequirement already satisfied: opt-einsum>=2.3.2 in /usr/local/lib/python3.7/dist-packages (from tensorflow-gpu) (3.3.0)\n",
            "Requirement already satisfied: libclang>=13.0.0 in /usr/local/lib/python3.7/dist-packages (from tensorflow-gpu) (14.0.6)\n",
            "Requirement already satisfied: numpy>=1.20 in /usr/local/lib/python3.7/dist-packages (from tensorflow-gpu) (1.21.6)\n",
            "Requirement already satisfied: astunparse>=1.6.0 in /usr/local/lib/python3.7/dist-packages (from tensorflow-gpu) (1.6.3)\n",
            "Requirement already satisfied: keras-preprocessing>=1.1.1 in /usr/local/lib/python3.7/dist-packages (from tensorflow-gpu) (1.1.2)\n",
            "Collecting tensorflow-estimator<2.11,>=2.10.0\n",
            "  Downloading tensorflow_estimator-2.10.0-py2.py3-none-any.whl (438 kB)\n",
            "\u001b[K     |████████████████████████████████| 438 kB 64.0 MB/s \n",
            "\u001b[?25hRequirement already satisfied: packaging in /usr/local/lib/python3.7/dist-packages (from tensorflow-gpu) (21.3)\n",
            "Requirement already satisfied: h5py>=2.9.0 in /usr/local/lib/python3.7/dist-packages (from tensorflow-gpu) (3.1.0)\n",
            "Requirement already satisfied: flatbuffers>=2.0 in /usr/local/lib/python3.7/dist-packages (from tensorflow-gpu) (2.0.7)\n",
            "Requirement already satisfied: setuptools in /usr/local/lib/python3.7/dist-packages (from tensorflow-gpu) (57.4.0)\n",
            "Requirement already satisfied: grpcio<2.0,>=1.24.3 in /usr/local/lib/python3.7/dist-packages (from tensorflow-gpu) (1.48.1)\n",
            "Requirement already satisfied: tensorflow-io-gcs-filesystem>=0.23.1 in /usr/local/lib/python3.7/dist-packages (from tensorflow-gpu) (0.26.0)\n",
            "Requirement already satisfied: termcolor>=1.1.0 in /usr/local/lib/python3.7/dist-packages (from tensorflow-gpu) (1.1.0)\n",
            "Requirement already satisfied: absl-py>=1.0.0 in /usr/local/lib/python3.7/dist-packages (from tensorflow-gpu) (1.2.0)\n",
            "Requirement already satisfied: wheel<1.0,>=0.23.0 in /usr/local/lib/python3.7/dist-packages (from astunparse>=1.6.0->tensorflow-gpu) (0.37.1)\n",
            "Requirement already satisfied: cached-property in /usr/local/lib/python3.7/dist-packages (from h5py>=2.9.0->tensorflow-gpu) (1.5.2)\n",
            "Requirement already satisfied: google-auth-oauthlib<0.5,>=0.4.1 in /usr/local/lib/python3.7/dist-packages (from tensorboard<2.11,>=2.10->tensorflow-gpu) (0.4.6)\n",
            "Requirement already satisfied: requests<3,>=2.21.0 in /usr/local/lib/python3.7/dist-packages (from tensorboard<2.11,>=2.10->tensorflow-gpu) (2.23.0)\n",
            "Requirement already satisfied: tensorboard-plugin-wit>=1.6.0 in /usr/local/lib/python3.7/dist-packages (from tensorboard<2.11,>=2.10->tensorflow-gpu) (1.8.1)\n",
            "Requirement already satisfied: tensorboard-data-server<0.7.0,>=0.6.0 in /usr/local/lib/python3.7/dist-packages (from tensorboard<2.11,>=2.10->tensorflow-gpu) (0.6.1)\n",
            "Requirement already satisfied: markdown>=2.6.8 in /usr/local/lib/python3.7/dist-packages (from tensorboard<2.11,>=2.10->tensorflow-gpu) (3.4.1)\n",
            "Requirement already satisfied: werkzeug>=1.0.1 in /usr/local/lib/python3.7/dist-packages (from tensorboard<2.11,>=2.10->tensorflow-gpu) (1.0.1)\n",
            "Requirement already satisfied: google-auth<3,>=1.6.3 in /usr/local/lib/python3.7/dist-packages (from tensorboard<2.11,>=2.10->tensorflow-gpu) (1.35.0)\n",
            "Requirement already satisfied: rsa<5,>=3.1.4 in /usr/local/lib/python3.7/dist-packages (from google-auth<3,>=1.6.3->tensorboard<2.11,>=2.10->tensorflow-gpu) (4.9)\n",
            "Requirement already satisfied: pyasn1-modules>=0.2.1 in /usr/local/lib/python3.7/dist-packages (from google-auth<3,>=1.6.3->tensorboard<2.11,>=2.10->tensorflow-gpu) (0.2.8)\n",
            "Requirement already satisfied: cachetools<5.0,>=2.0.0 in /usr/local/lib/python3.7/dist-packages (from google-auth<3,>=1.6.3->tensorboard<2.11,>=2.10->tensorflow-gpu) (4.2.4)\n",
            "Requirement already satisfied: requests-oauthlib>=0.7.0 in /usr/local/lib/python3.7/dist-packages (from google-auth-oauthlib<0.5,>=0.4.1->tensorboard<2.11,>=2.10->tensorflow-gpu) (1.3.1)\n",
            "Requirement already satisfied: importlib-metadata>=4.4 in /usr/local/lib/python3.7/dist-packages (from markdown>=2.6.8->tensorboard<2.11,>=2.10->tensorflow-gpu) (4.12.0)\n",
            "Requirement already satisfied: zipp>=0.5 in /usr/local/lib/python3.7/dist-packages (from importlib-metadata>=4.4->markdown>=2.6.8->tensorboard<2.11,>=2.10->tensorflow-gpu) (3.8.1)\n",
            "Requirement already satisfied: pyasn1<0.5.0,>=0.4.6 in /usr/local/lib/python3.7/dist-packages (from pyasn1-modules>=0.2.1->google-auth<3,>=1.6.3->tensorboard<2.11,>=2.10->tensorflow-gpu) (0.4.8)\n",
            "Requirement already satisfied: chardet<4,>=3.0.2 in /usr/local/lib/python3.7/dist-packages (from requests<3,>=2.21.0->tensorboard<2.11,>=2.10->tensorflow-gpu) (3.0.4)\n",
            "Requirement already satisfied: urllib3!=1.25.0,!=1.25.1,<1.26,>=1.21.1 in /usr/local/lib/python3.7/dist-packages (from requests<3,>=2.21.0->tensorboard<2.11,>=2.10->tensorflow-gpu) (1.24.3)\n",
            "Requirement already satisfied: idna<3,>=2.5 in /usr/local/lib/python3.7/dist-packages (from requests<3,>=2.21.0->tensorboard<2.11,>=2.10->tensorflow-gpu) (2.10)\n",
            "Requirement already satisfied: certifi>=2017.4.17 in /usr/local/lib/python3.7/dist-packages (from requests<3,>=2.21.0->tensorboard<2.11,>=2.10->tensorflow-gpu) (2022.6.15)\n",
            "Requirement already satisfied: oauthlib>=3.0.0 in /usr/local/lib/python3.7/dist-packages (from requests-oauthlib>=0.7.0->google-auth-oauthlib<0.5,>=0.4.1->tensorboard<2.11,>=2.10->tensorflow-gpu) (3.2.0)\n",
            "Requirement already satisfied: pyparsing!=3.0.5,>=2.0.2 in /usr/local/lib/python3.7/dist-packages (from packaging->tensorflow-gpu) (3.0.9)\n",
            "Installing collected packages: tensorflow-estimator, tensorboard, keras, gast, tensorflow-gpu\n",
            "  Attempting uninstall: tensorflow-estimator\n",
            "    Found existing installation: tensorflow-estimator 2.8.0\n",
            "    Uninstalling tensorflow-estimator-2.8.0:\n",
            "      Successfully uninstalled tensorflow-estimator-2.8.0\n",
            "  Attempting uninstall: tensorboard\n",
            "    Found existing installation: tensorboard 2.8.0\n",
            "    Uninstalling tensorboard-2.8.0:\n",
            "      Successfully uninstalled tensorboard-2.8.0\n",
            "  Attempting uninstall: keras\n",
            "    Found existing installation: keras 2.8.0\n",
            "    Uninstalling keras-2.8.0:\n",
            "      Successfully uninstalled keras-2.8.0\n",
            "  Attempting uninstall: gast\n",
            "    Found existing installation: gast 0.5.3\n",
            "    Uninstalling gast-0.5.3:\n",
            "      Successfully uninstalled gast-0.5.3\n",
            "\u001b[31mERROR: pip's dependency resolver does not currently take into account all the packages that are installed. This behaviour is the source of the following dependency conflicts.\n",
            "tensorflow 2.8.2+zzzcolab20220719082949 requires keras<2.9,>=2.8.0rc0, but you have keras 2.10.0 which is incompatible.\n",
            "tensorflow 2.8.2+zzzcolab20220719082949 requires tensorboard<2.9,>=2.8, but you have tensorboard 2.10.0 which is incompatible.\n",
            "tensorflow 2.8.2+zzzcolab20220719082949 requires tensorflow-estimator<2.9,>=2.8, but you have tensorflow-estimator 2.10.0 which is incompatible.\u001b[0m\n",
            "Successfully installed gast-0.4.0 keras-2.10.0 tensorboard-2.10.0 tensorflow-estimator-2.10.0 tensorflow-gpu-2.10.0\n"
          ]
        },
        {
          "output_type": "display_data",
          "data": {
            "application/vnd.colab-display-data+json": {
              "pip_warning": {
                "packages": [
                  "gast",
                  "keras",
                  "tensorboard",
                  "tensorflow"
                ]
              }
            }
          },
          "metadata": {}
        }
      ],
      "source": [
        "!pip install tensorflow-gpu"
      ]
    },
    {
      "cell_type": "code",
      "source": [
        "import tensorflow as tf\n",
        "print(tf.__version__)"
      ],
      "metadata": {
        "colab": {
          "base_uri": "https://localhost:8080/"
        },
        "id": "aD9onsmrtxuK",
        "outputId": "d0382677-c7ee-4849-be55-59dc3f87d2ea"
      },
      "execution_count": 37,
      "outputs": [
        {
          "output_type": "stream",
          "name": "stdout",
          "text": [
            "2.8.2\n"
          ]
        }
      ]
    },
    {
      "cell_type": "code",
      "source": [
        "## import some basics libraries\n",
        "\n",
        "import numpy as np\n",
        "import matplotlib.pyplot as plt\n",
        "import pandas as pd\n",
        "\n",
        "%matplotlib inline"
      ],
      "metadata": {
        "id": "yL3_ptavuJ-M"
      },
      "execution_count": 38,
      "outputs": []
    },
    {
      "cell_type": "code",
      "source": [
        "# Reading the dataset\\\n",
        "\n",
        "dataset=pd.read_csv('Churn_Modelling.csv')\n",
        "dataset.head()"
      ],
      "metadata": {
        "colab": {
          "base_uri": "https://localhost:8080/",
          "height": 270
        },
        "id": "prUyt9WcuYhE",
        "outputId": "3974e726-300a-4218-aef9-646e1036eae5"
      },
      "execution_count": 39,
      "outputs": [
        {
          "output_type": "execute_result",
          "data": {
            "text/plain": [
              "   RowNumber  CustomerId   Surname  CreditScore Geography  Gender  Age  \\\n",
              "0          1    15634602  Hargrave          619    France  Female   42   \n",
              "1          2    15647311      Hill          608     Spain  Female   41   \n",
              "2          3    15619304      Onio          502    France  Female   42   \n",
              "3          4    15701354      Boni          699    France  Female   39   \n",
              "4          5    15737888  Mitchell          850     Spain  Female   43   \n",
              "\n",
              "   Tenure    Balance  NumOfProducts  HasCrCard  IsActiveMember  \\\n",
              "0       2       0.00              1          1               1   \n",
              "1       1   83807.86              1          0               1   \n",
              "2       8  159660.80              3          1               0   \n",
              "3       1       0.00              2          0               0   \n",
              "4       2  125510.82              1          1               1   \n",
              "\n",
              "   EstimatedSalary  Exited  \n",
              "0        101348.88       1  \n",
              "1        112542.58       0  \n",
              "2        113931.57       1  \n",
              "3         93826.63       0  \n",
              "4         79084.10       0  "
            ],
            "text/html": [
              "\n",
              "  <div id=\"df-6a1f9e6c-4fb8-4b2d-970f-88874ca22ba5\">\n",
              "    <div class=\"colab-df-container\">\n",
              "      <div>\n",
              "<style scoped>\n",
              "    .dataframe tbody tr th:only-of-type {\n",
              "        vertical-align: middle;\n",
              "    }\n",
              "\n",
              "    .dataframe tbody tr th {\n",
              "        vertical-align: top;\n",
              "    }\n",
              "\n",
              "    .dataframe thead th {\n",
              "        text-align: right;\n",
              "    }\n",
              "</style>\n",
              "<table border=\"1\" class=\"dataframe\">\n",
              "  <thead>\n",
              "    <tr style=\"text-align: right;\">\n",
              "      <th></th>\n",
              "      <th>RowNumber</th>\n",
              "      <th>CustomerId</th>\n",
              "      <th>Surname</th>\n",
              "      <th>CreditScore</th>\n",
              "      <th>Geography</th>\n",
              "      <th>Gender</th>\n",
              "      <th>Age</th>\n",
              "      <th>Tenure</th>\n",
              "      <th>Balance</th>\n",
              "      <th>NumOfProducts</th>\n",
              "      <th>HasCrCard</th>\n",
              "      <th>IsActiveMember</th>\n",
              "      <th>EstimatedSalary</th>\n",
              "      <th>Exited</th>\n",
              "    </tr>\n",
              "  </thead>\n",
              "  <tbody>\n",
              "    <tr>\n",
              "      <th>0</th>\n",
              "      <td>1</td>\n",
              "      <td>15634602</td>\n",
              "      <td>Hargrave</td>\n",
              "      <td>619</td>\n",
              "      <td>France</td>\n",
              "      <td>Female</td>\n",
              "      <td>42</td>\n",
              "      <td>2</td>\n",
              "      <td>0.00</td>\n",
              "      <td>1</td>\n",
              "      <td>1</td>\n",
              "      <td>1</td>\n",
              "      <td>101348.88</td>\n",
              "      <td>1</td>\n",
              "    </tr>\n",
              "    <tr>\n",
              "      <th>1</th>\n",
              "      <td>2</td>\n",
              "      <td>15647311</td>\n",
              "      <td>Hill</td>\n",
              "      <td>608</td>\n",
              "      <td>Spain</td>\n",
              "      <td>Female</td>\n",
              "      <td>41</td>\n",
              "      <td>1</td>\n",
              "      <td>83807.86</td>\n",
              "      <td>1</td>\n",
              "      <td>0</td>\n",
              "      <td>1</td>\n",
              "      <td>112542.58</td>\n",
              "      <td>0</td>\n",
              "    </tr>\n",
              "    <tr>\n",
              "      <th>2</th>\n",
              "      <td>3</td>\n",
              "      <td>15619304</td>\n",
              "      <td>Onio</td>\n",
              "      <td>502</td>\n",
              "      <td>France</td>\n",
              "      <td>Female</td>\n",
              "      <td>42</td>\n",
              "      <td>8</td>\n",
              "      <td>159660.80</td>\n",
              "      <td>3</td>\n",
              "      <td>1</td>\n",
              "      <td>0</td>\n",
              "      <td>113931.57</td>\n",
              "      <td>1</td>\n",
              "    </tr>\n",
              "    <tr>\n",
              "      <th>3</th>\n",
              "      <td>4</td>\n",
              "      <td>15701354</td>\n",
              "      <td>Boni</td>\n",
              "      <td>699</td>\n",
              "      <td>France</td>\n",
              "      <td>Female</td>\n",
              "      <td>39</td>\n",
              "      <td>1</td>\n",
              "      <td>0.00</td>\n",
              "      <td>2</td>\n",
              "      <td>0</td>\n",
              "      <td>0</td>\n",
              "      <td>93826.63</td>\n",
              "      <td>0</td>\n",
              "    </tr>\n",
              "    <tr>\n",
              "      <th>4</th>\n",
              "      <td>5</td>\n",
              "      <td>15737888</td>\n",
              "      <td>Mitchell</td>\n",
              "      <td>850</td>\n",
              "      <td>Spain</td>\n",
              "      <td>Female</td>\n",
              "      <td>43</td>\n",
              "      <td>2</td>\n",
              "      <td>125510.82</td>\n",
              "      <td>1</td>\n",
              "      <td>1</td>\n",
              "      <td>1</td>\n",
              "      <td>79084.10</td>\n",
              "      <td>0</td>\n",
              "    </tr>\n",
              "  </tbody>\n",
              "</table>\n",
              "</div>\n",
              "      <button class=\"colab-df-convert\" onclick=\"convertToInteractive('df-6a1f9e6c-4fb8-4b2d-970f-88874ca22ba5')\"\n",
              "              title=\"Convert this dataframe to an interactive table.\"\n",
              "              style=\"display:none;\">\n",
              "        \n",
              "  <svg xmlns=\"http://www.w3.org/2000/svg\" height=\"24px\"viewBox=\"0 0 24 24\"\n",
              "       width=\"24px\">\n",
              "    <path d=\"M0 0h24v24H0V0z\" fill=\"none\"/>\n",
              "    <path d=\"M18.56 5.44l.94 2.06.94-2.06 2.06-.94-2.06-.94-.94-2.06-.94 2.06-2.06.94zm-11 1L8.5 8.5l.94-2.06 2.06-.94-2.06-.94L8.5 2.5l-.94 2.06-2.06.94zm10 10l.94 2.06.94-2.06 2.06-.94-2.06-.94-.94-2.06-.94 2.06-2.06.94z\"/><path d=\"M17.41 7.96l-1.37-1.37c-.4-.4-.92-.59-1.43-.59-.52 0-1.04.2-1.43.59L10.3 9.45l-7.72 7.72c-.78.78-.78 2.05 0 2.83L4 21.41c.39.39.9.59 1.41.59.51 0 1.02-.2 1.41-.59l7.78-7.78 2.81-2.81c.8-.78.8-2.07 0-2.86zM5.41 20L4 18.59l7.72-7.72 1.47 1.35L5.41 20z\"/>\n",
              "  </svg>\n",
              "      </button>\n",
              "      \n",
              "  <style>\n",
              "    .colab-df-container {\n",
              "      display:flex;\n",
              "      flex-wrap:wrap;\n",
              "      gap: 12px;\n",
              "    }\n",
              "\n",
              "    .colab-df-convert {\n",
              "      background-color: #E8F0FE;\n",
              "      border: none;\n",
              "      border-radius: 50%;\n",
              "      cursor: pointer;\n",
              "      display: none;\n",
              "      fill: #1967D2;\n",
              "      height: 32px;\n",
              "      padding: 0 0 0 0;\n",
              "      width: 32px;\n",
              "    }\n",
              "\n",
              "    .colab-df-convert:hover {\n",
              "      background-color: #E2EBFA;\n",
              "      box-shadow: 0px 1px 2px rgba(60, 64, 67, 0.3), 0px 1px 3px 1px rgba(60, 64, 67, 0.15);\n",
              "      fill: #174EA6;\n",
              "    }\n",
              "\n",
              "    [theme=dark] .colab-df-convert {\n",
              "      background-color: #3B4455;\n",
              "      fill: #D2E3FC;\n",
              "    }\n",
              "\n",
              "    [theme=dark] .colab-df-convert:hover {\n",
              "      background-color: #434B5C;\n",
              "      box-shadow: 0px 1px 3px 1px rgba(0, 0, 0, 0.15);\n",
              "      filter: drop-shadow(0px 1px 2px rgba(0, 0, 0, 0.3));\n",
              "      fill: #FFFFFF;\n",
              "    }\n",
              "  </style>\n",
              "\n",
              "      <script>\n",
              "        const buttonEl =\n",
              "          document.querySelector('#df-6a1f9e6c-4fb8-4b2d-970f-88874ca22ba5 button.colab-df-convert');\n",
              "        buttonEl.style.display =\n",
              "          google.colab.kernel.accessAllowed ? 'block' : 'none';\n",
              "\n",
              "        async function convertToInteractive(key) {\n",
              "          const element = document.querySelector('#df-6a1f9e6c-4fb8-4b2d-970f-88874ca22ba5');\n",
              "          const dataTable =\n",
              "            await google.colab.kernel.invokeFunction('convertToInteractive',\n",
              "                                                     [key], {});\n",
              "          if (!dataTable) return;\n",
              "\n",
              "          const docLinkHtml = 'Like what you see? Visit the ' +\n",
              "            '<a target=\"_blank\" href=https://colab.research.google.com/notebooks/data_table.ipynb>data table notebook</a>'\n",
              "            + ' to learn more about interactive tables.';\n",
              "          element.innerHTML = '';\n",
              "          dataTable['output_type'] = 'display_data';\n",
              "          await google.colab.output.renderOutput(dataTable, element);\n",
              "          const docLink = document.createElement('div');\n",
              "          docLink.innerHTML = docLinkHtml;\n",
              "          element.appendChild(docLink);\n",
              "        }\n",
              "      </script>\n",
              "    </div>\n",
              "  </div>\n",
              "  "
            ]
          },
          "metadata": {},
          "execution_count": 39
        }
      ]
    },
    {
      "cell_type": "code",
      "source": [
        "## Divide the dataset into independent and dependent feature\n",
        "\n",
        "X=dataset.iloc[:,3:-1]\n",
        "y=dataset.iloc[:,-1]"
      ],
      "metadata": {
        "id": "D9e48KTcujNJ"
      },
      "execution_count": 40,
      "outputs": []
    },
    {
      "cell_type": "code",
      "source": [
        "## Feature Engineering\n",
        "\n",
        "geography=pd.get_dummies(X['Geography'],drop_first=True)\n",
        "gender=pd.get_dummies(X['Gender'],drop_first=True)"
      ],
      "metadata": {
        "id": "ZL4NKjWxvK1S"
      },
      "execution_count": 41,
      "outputs": []
    },
    {
      "cell_type": "code",
      "source": [
        "## Concatenate these variable with dataframe\n",
        "\n",
        "X.drop(columns=['Geography','Gender'],inplace=True)\n",
        "X=pd.concat([X,geography,gender],axis=1)"
      ],
      "metadata": {
        "id": "g5iJLQRov3aX"
      },
      "execution_count": 42,
      "outputs": []
    },
    {
      "cell_type": "code",
      "source": [
        "## Splitting the dataset into training set and test set\n",
        "from sklearn.model_selection import train_test_split\n",
        "\n",
        "X_train,X_test,y_train,y_test=train_test_split(X,y,test_size=0.2,random_state=0)"
      ],
      "metadata": {
        "id": "3Oz-fcIiwfzz"
      },
      "execution_count": 43,
      "outputs": []
    },
    {
      "cell_type": "code",
      "source": [
        "## Feature Scaling\n",
        "from sklearn.preprocessing import StandardScaler\n",
        "\n",
        "sc=StandardScaler()\n",
        "X_train=sc.fit_transform(X_train)\n",
        "X_test=sc.transform(X_test)"
      ],
      "metadata": {
        "id": "4ZhpKIw8yKi4"
      },
      "execution_count": 44,
      "outputs": []
    },
    {
      "cell_type": "code",
      "source": [
        "X_train.shape,X_test.shape"
      ],
      "metadata": {
        "colab": {
          "base_uri": "https://localhost:8080/"
        },
        "id": "9xN2MpskywS4",
        "outputId": "20102a3c-70b1-4172-a73d-36477ed84f6b"
      },
      "execution_count": 45,
      "outputs": [
        {
          "output_type": "execute_result",
          "data": {
            "text/plain": [
              "((8000, 11), (2000, 11))"
            ]
          },
          "metadata": {},
          "execution_count": 45
        }
      ]
    },
    {
      "cell_type": "code",
      "source": [
        "## Part 2 Now lets create the ANN\n",
        "from tensorflow.keras.models import Sequential\n",
        "from tensorflow.keras.layers import Dense\n",
        "from tensorflow.keras.layers import LeakyReLU,PReLU,ELU,ReLU\n",
        "from tensorflow.keras.layers import Dropout"
      ],
      "metadata": {
        "id": "nYgfjbj2zHUI"
      },
      "execution_count": 46,
      "outputs": []
    },
    {
      "cell_type": "code",
      "source": [
        "## lets initilize the ann\n",
        "\n",
        "classifier=Sequential()"
      ],
      "metadata": {
        "id": "fNziMpkg0rEI"
      },
      "execution_count": 47,
      "outputs": []
    },
    {
      "cell_type": "code",
      "source": [
        "## Adding the input layer\n",
        "\n",
        "classifier.add(Dense(units=11,activation='relu'))"
      ],
      "metadata": {
        "id": "YSywwl8Boq7N"
      },
      "execution_count": 48,
      "outputs": []
    },
    {
      "cell_type": "code",
      "source": [
        "## Adding the first hidden layer\n",
        "\n",
        "classifier.add(Dense(units=7,activation='relu'))"
      ],
      "metadata": {
        "id": "dQ5BAo1-pA5Y"
      },
      "execution_count": 49,
      "outputs": []
    },
    {
      "cell_type": "code",
      "source": [
        "## Adding the second hidden layer\n",
        "\n",
        "classifier.add(Dense(units=6,activation='relu'))"
      ],
      "metadata": {
        "id": "SIuIdnQNpM13"
      },
      "execution_count": 50,
      "outputs": []
    },
    {
      "cell_type": "code",
      "source": [
        "## Adding the output layer\n",
        "\n",
        "classifier.add(Dense(1,activation='sigmoid'))"
      ],
      "metadata": {
        "id": "oeyyGTgHpapH"
      },
      "execution_count": 51,
      "outputs": []
    },
    {
      "cell_type": "code",
      "source": [
        "classifier.compile(optimizer='adam',loss='binary_crossentropy',metrics=['accuracy'])"
      ],
      "metadata": {
        "id": "E_Ie3joUpm13"
      },
      "execution_count": 52,
      "outputs": []
    },
    {
      "cell_type": "code",
      "source": [
        "# By default adam has learning rate\n",
        "# if you want to specify then..\n",
        "\n",
        "import tensorflow\n",
        "opt=tensorflow.keras.optimizers.Adam(learning_rate=0.01)"
      ],
      "metadata": {
        "id": "8Vn6qKp2p4NY"
      },
      "execution_count": 53,
      "outputs": []
    },
    {
      "cell_type": "code",
      "source": [
        "model_histroy=classifier.fit(X_train,y_train,validation_split=0.33,batch_size=10,epochs=10000)"
      ],
      "metadata": {
        "colab": {
          "base_uri": "https://localhost:8080/",
          "height": 1000
        },
        "id": "mbTK1JQnqKXn",
        "outputId": "a056c8cc-98ca-42ed-9d00-eb4410fa0337"
      },
      "execution_count": 19,
      "outputs": [
        {
          "output_type": "stream",
          "name": "stdout",
          "text": [
            "Epoch 1/10000\n",
            "536/536 [==============================] - 7s 5ms/step - loss: 0.4985 - accuracy: 0.7820 - val_loss: 0.4606 - val_accuracy: 0.7970\n",
            "Epoch 2/10000\n",
            "536/536 [==============================] - 2s 4ms/step - loss: 0.4372 - accuracy: 0.8000 - val_loss: 0.4389 - val_accuracy: 0.8020\n",
            "Epoch 3/10000\n",
            "536/536 [==============================] - 2s 4ms/step - loss: 0.4164 - accuracy: 0.8127 - val_loss: 0.4204 - val_accuracy: 0.8114\n",
            "Epoch 4/10000\n",
            "536/536 [==============================] - 2s 4ms/step - loss: 0.3959 - accuracy: 0.8276 - val_loss: 0.3981 - val_accuracy: 0.8224\n",
            "Epoch 5/10000\n",
            "536/536 [==============================] - 2s 4ms/step - loss: 0.3728 - accuracy: 0.8419 - val_loss: 0.3832 - val_accuracy: 0.8353\n",
            "Epoch 6/10000\n",
            "536/536 [==============================] - 2s 4ms/step - loss: 0.3581 - accuracy: 0.8509 - val_loss: 0.3733 - val_accuracy: 0.8391\n",
            "Epoch 7/10000\n",
            "536/536 [==============================] - 2s 4ms/step - loss: 0.3516 - accuracy: 0.8530 - val_loss: 0.3696 - val_accuracy: 0.8421\n",
            "Epoch 8/10000\n",
            "536/536 [==============================] - 2s 4ms/step - loss: 0.3468 - accuracy: 0.8567 - val_loss: 0.3679 - val_accuracy: 0.8448\n",
            "Epoch 9/10000\n",
            "536/536 [==============================] - 2s 4ms/step - loss: 0.3444 - accuracy: 0.8565 - val_loss: 0.3661 - val_accuracy: 0.8485\n",
            "Epoch 10/10000\n",
            "536/536 [==============================] - 2s 4ms/step - loss: 0.3422 - accuracy: 0.8589 - val_loss: 0.3666 - val_accuracy: 0.8474\n",
            "Epoch 11/10000\n",
            "536/536 [==============================] - 2s 4ms/step - loss: 0.3402 - accuracy: 0.8602 - val_loss: 0.3641 - val_accuracy: 0.8493\n",
            "Epoch 12/10000\n",
            "536/536 [==============================] - 2s 4ms/step - loss: 0.3387 - accuracy: 0.8595 - val_loss: 0.3641 - val_accuracy: 0.8493\n",
            "Epoch 13/10000\n",
            "536/536 [==============================] - 2s 5ms/step - loss: 0.3375 - accuracy: 0.8621 - val_loss: 0.3636 - val_accuracy: 0.8519\n",
            "Epoch 14/10000\n",
            "536/536 [==============================] - 2s 4ms/step - loss: 0.3366 - accuracy: 0.8610 - val_loss: 0.3634 - val_accuracy: 0.8482\n",
            "Epoch 15/10000\n",
            "536/536 [==============================] - 2s 4ms/step - loss: 0.3367 - accuracy: 0.8625 - val_loss: 0.3632 - val_accuracy: 0.8493\n",
            "Epoch 16/10000\n",
            "536/536 [==============================] - 2s 4ms/step - loss: 0.3353 - accuracy: 0.8628 - val_loss: 0.3645 - val_accuracy: 0.8504\n",
            "Epoch 17/10000\n",
            "536/536 [==============================] - 2s 4ms/step - loss: 0.3342 - accuracy: 0.8634 - val_loss: 0.3627 - val_accuracy: 0.8512\n",
            "Epoch 18/10000\n",
            "536/536 [==============================] - 2s 4ms/step - loss: 0.3343 - accuracy: 0.8632 - val_loss: 0.3632 - val_accuracy: 0.8512\n",
            "Epoch 19/10000\n",
            "536/536 [==============================] - 2s 4ms/step - loss: 0.3341 - accuracy: 0.8628 - val_loss: 0.3628 - val_accuracy: 0.8504\n",
            "Epoch 20/10000\n",
            "536/536 [==============================] - 2s 4ms/step - loss: 0.3329 - accuracy: 0.8640 - val_loss: 0.3643 - val_accuracy: 0.8493\n",
            "Epoch 21/10000\n",
            "536/536 [==============================] - 2s 3ms/step - loss: 0.3327 - accuracy: 0.8623 - val_loss: 0.3636 - val_accuracy: 0.8512\n",
            "Epoch 22/10000\n",
            "536/536 [==============================] - 2s 4ms/step - loss: 0.3320 - accuracy: 0.8653 - val_loss: 0.3649 - val_accuracy: 0.8497\n",
            "Epoch 23/10000\n",
            "536/536 [==============================] - 2s 4ms/step - loss: 0.3316 - accuracy: 0.8642 - val_loss: 0.3647 - val_accuracy: 0.8474\n",
            "Epoch 24/10000\n",
            "536/536 [==============================] - 2s 4ms/step - loss: 0.3307 - accuracy: 0.8643 - val_loss: 0.3632 - val_accuracy: 0.8508\n",
            "Epoch 25/10000\n",
            "536/536 [==============================] - 2s 4ms/step - loss: 0.3303 - accuracy: 0.8647 - val_loss: 0.3620 - val_accuracy: 0.8516\n",
            "Epoch 26/10000\n",
            "536/536 [==============================] - 2s 4ms/step - loss: 0.3299 - accuracy: 0.8643 - val_loss: 0.3629 - val_accuracy: 0.8512\n",
            "Epoch 27/10000\n",
            "536/536 [==============================] - 2s 4ms/step - loss: 0.3295 - accuracy: 0.8645 - val_loss: 0.3614 - val_accuracy: 0.8519\n",
            "Epoch 28/10000\n",
            "536/536 [==============================] - 2s 4ms/step - loss: 0.3293 - accuracy: 0.8651 - val_loss: 0.3612 - val_accuracy: 0.8512\n",
            "Epoch 29/10000\n",
            "536/536 [==============================] - 2s 4ms/step - loss: 0.3285 - accuracy: 0.8656 - val_loss: 0.3629 - val_accuracy: 0.8504\n",
            "Epoch 30/10000\n",
            "536/536 [==============================] - 2s 4ms/step - loss: 0.3283 - accuracy: 0.8651 - val_loss: 0.3613 - val_accuracy: 0.8482\n",
            "Epoch 31/10000\n",
            "536/536 [==============================] - 2s 4ms/step - loss: 0.3270 - accuracy: 0.8670 - val_loss: 0.3623 - val_accuracy: 0.8512\n",
            "Epoch 32/10000\n",
            "536/536 [==============================] - 2s 4ms/step - loss: 0.3266 - accuracy: 0.8655 - val_loss: 0.3644 - val_accuracy: 0.8497\n",
            "Epoch 33/10000\n",
            "536/536 [==============================] - 2s 4ms/step - loss: 0.3265 - accuracy: 0.8656 - val_loss: 0.3623 - val_accuracy: 0.8523\n",
            "Epoch 34/10000\n",
            "536/536 [==============================] - 2s 4ms/step - loss: 0.3262 - accuracy: 0.8660 - val_loss: 0.3620 - val_accuracy: 0.8497\n",
            "Epoch 35/10000\n",
            "536/536 [==============================] - 2s 4ms/step - loss: 0.3261 - accuracy: 0.8647 - val_loss: 0.3615 - val_accuracy: 0.8527\n",
            "Epoch 36/10000\n",
            "536/536 [==============================] - 2s 4ms/step - loss: 0.3244 - accuracy: 0.8660 - val_loss: 0.3699 - val_accuracy: 0.8466\n",
            "Epoch 37/10000\n",
            "536/536 [==============================] - 2s 4ms/step - loss: 0.3250 - accuracy: 0.8647 - val_loss: 0.3636 - val_accuracy: 0.8519\n",
            "Epoch 38/10000\n",
            "536/536 [==============================] - 2s 4ms/step - loss: 0.3243 - accuracy: 0.8670 - val_loss: 0.3624 - val_accuracy: 0.8508\n",
            "Epoch 39/10000\n",
            "536/536 [==============================] - 2s 5ms/step - loss: 0.3230 - accuracy: 0.8653 - val_loss: 0.3712 - val_accuracy: 0.8459\n",
            "Epoch 40/10000\n",
            "536/536 [==============================] - 2s 4ms/step - loss: 0.3230 - accuracy: 0.8662 - val_loss: 0.3640 - val_accuracy: 0.8501\n",
            "Epoch 41/10000\n",
            "536/536 [==============================] - 2s 4ms/step - loss: 0.3230 - accuracy: 0.8634 - val_loss: 0.3618 - val_accuracy: 0.8519\n",
            "Epoch 42/10000\n",
            "536/536 [==============================] - 2s 4ms/step - loss: 0.3221 - accuracy: 0.8662 - val_loss: 0.3668 - val_accuracy: 0.8474\n",
            "Epoch 43/10000\n",
            "536/536 [==============================] - 2s 4ms/step - loss: 0.3217 - accuracy: 0.8681 - val_loss: 0.3657 - val_accuracy: 0.8478\n",
            "Epoch 44/10000\n",
            "536/536 [==============================] - 2s 4ms/step - loss: 0.3209 - accuracy: 0.8679 - val_loss: 0.3634 - val_accuracy: 0.8538\n",
            "Epoch 45/10000\n",
            "536/536 [==============================] - 2s 4ms/step - loss: 0.3221 - accuracy: 0.8671 - val_loss: 0.3654 - val_accuracy: 0.8485\n",
            "Epoch 46/10000\n",
            "536/536 [==============================] - 2s 4ms/step - loss: 0.3204 - accuracy: 0.8681 - val_loss: 0.3640 - val_accuracy: 0.8535\n",
            "Epoch 47/10000\n",
            "536/536 [==============================] - 2s 4ms/step - loss: 0.3209 - accuracy: 0.8677 - val_loss: 0.3650 - val_accuracy: 0.8523\n",
            "Epoch 48/10000\n",
            "536/536 [==============================] - 2s 4ms/step - loss: 0.3202 - accuracy: 0.8683 - val_loss: 0.3670 - val_accuracy: 0.8489\n",
            "Epoch 49/10000\n",
            "536/536 [==============================] - 2s 4ms/step - loss: 0.3195 - accuracy: 0.8666 - val_loss: 0.3666 - val_accuracy: 0.8497\n",
            "Epoch 50/10000\n",
            "536/536 [==============================] - 2s 4ms/step - loss: 0.3187 - accuracy: 0.8677 - val_loss: 0.3710 - val_accuracy: 0.8485\n",
            "Epoch 51/10000\n",
            "536/536 [==============================] - 2s 4ms/step - loss: 0.3188 - accuracy: 0.8683 - val_loss: 0.3673 - val_accuracy: 0.8504\n",
            "Epoch 52/10000\n",
            "536/536 [==============================] - 2s 4ms/step - loss: 0.3178 - accuracy: 0.8671 - val_loss: 0.3710 - val_accuracy: 0.8482\n",
            "Epoch 53/10000\n",
            "536/536 [==============================] - 2s 4ms/step - loss: 0.3182 - accuracy: 0.8692 - val_loss: 0.3675 - val_accuracy: 0.8508\n",
            "Epoch 54/10000\n",
            "536/536 [==============================] - 2s 4ms/step - loss: 0.3176 - accuracy: 0.8686 - val_loss: 0.3691 - val_accuracy: 0.8497\n",
            "Epoch 55/10000\n",
            "536/536 [==============================] - 2s 4ms/step - loss: 0.3176 - accuracy: 0.8677 - val_loss: 0.3737 - val_accuracy: 0.8489\n",
            "Epoch 56/10000\n",
            "536/536 [==============================] - 2s 4ms/step - loss: 0.3182 - accuracy: 0.8675 - val_loss: 0.3667 - val_accuracy: 0.8501\n",
            "Epoch 57/10000\n",
            "536/536 [==============================] - 2s 4ms/step - loss: 0.3175 - accuracy: 0.8698 - val_loss: 0.3697 - val_accuracy: 0.8493\n",
            "Epoch 58/10000\n",
            "536/536 [==============================] - 2s 4ms/step - loss: 0.3166 - accuracy: 0.8698 - val_loss: 0.3702 - val_accuracy: 0.8504\n",
            "Epoch 59/10000\n",
            "536/536 [==============================] - 2s 4ms/step - loss: 0.3166 - accuracy: 0.8686 - val_loss: 0.3668 - val_accuracy: 0.8493\n",
            "Epoch 60/10000\n",
            "536/536 [==============================] - 2s 4ms/step - loss: 0.3169 - accuracy: 0.8671 - val_loss: 0.3698 - val_accuracy: 0.8489\n",
            "Epoch 61/10000\n",
            "536/536 [==============================] - 2s 4ms/step - loss: 0.3161 - accuracy: 0.8681 - val_loss: 0.3719 - val_accuracy: 0.8504\n",
            "Epoch 62/10000\n",
            "536/536 [==============================] - 2s 4ms/step - loss: 0.3164 - accuracy: 0.8688 - val_loss: 0.3696 - val_accuracy: 0.8508\n",
            "Epoch 63/10000\n",
            "536/536 [==============================] - 2s 4ms/step - loss: 0.3163 - accuracy: 0.8705 - val_loss: 0.3729 - val_accuracy: 0.8478\n",
            "Epoch 64/10000\n",
            "536/536 [==============================] - 2s 4ms/step - loss: 0.3161 - accuracy: 0.8690 - val_loss: 0.3699 - val_accuracy: 0.8497\n",
            "Epoch 65/10000\n",
            "536/536 [==============================] - 2s 4ms/step - loss: 0.3161 - accuracy: 0.8688 - val_loss: 0.3669 - val_accuracy: 0.8523\n",
            "Epoch 66/10000\n",
            "536/536 [==============================] - 2s 4ms/step - loss: 0.3163 - accuracy: 0.8698 - val_loss: 0.3693 - val_accuracy: 0.8497\n",
            "Epoch 67/10000\n",
            "536/536 [==============================] - 2s 4ms/step - loss: 0.3149 - accuracy: 0.8705 - val_loss: 0.3689 - val_accuracy: 0.8493\n",
            "Epoch 68/10000\n",
            "536/536 [==============================] - 2s 4ms/step - loss: 0.3162 - accuracy: 0.8683 - val_loss: 0.3716 - val_accuracy: 0.8489\n",
            "Epoch 69/10000\n",
            "536/536 [==============================] - 2s 4ms/step - loss: 0.3153 - accuracy: 0.8679 - val_loss: 0.3769 - val_accuracy: 0.8478\n",
            "Epoch 70/10000\n",
            "536/536 [==============================] - 2s 4ms/step - loss: 0.3154 - accuracy: 0.8692 - val_loss: 0.3693 - val_accuracy: 0.8512\n",
            "Epoch 71/10000\n",
            "536/536 [==============================] - 2s 4ms/step - loss: 0.3149 - accuracy: 0.8690 - val_loss: 0.3693 - val_accuracy: 0.8512\n",
            "Epoch 72/10000\n",
            "536/536 [==============================] - 2s 4ms/step - loss: 0.3149 - accuracy: 0.8707 - val_loss: 0.3717 - val_accuracy: 0.8516\n",
            "Epoch 73/10000\n",
            "536/536 [==============================] - 2s 4ms/step - loss: 0.3157 - accuracy: 0.8690 - val_loss: 0.3711 - val_accuracy: 0.8482\n",
            "Epoch 74/10000\n",
            "536/536 [==============================] - 2s 4ms/step - loss: 0.3147 - accuracy: 0.8690 - val_loss: 0.3695 - val_accuracy: 0.8504\n",
            "Epoch 75/10000\n",
            "536/536 [==============================] - 2s 4ms/step - loss: 0.3152 - accuracy: 0.8690 - val_loss: 0.3723 - val_accuracy: 0.8485\n",
            "Epoch 76/10000\n",
            "536/536 [==============================] - 2s 4ms/step - loss: 0.3153 - accuracy: 0.8703 - val_loss: 0.3704 - val_accuracy: 0.8504\n",
            "Epoch 77/10000\n",
            "536/536 [==============================] - 2s 4ms/step - loss: 0.3149 - accuracy: 0.8679 - val_loss: 0.3713 - val_accuracy: 0.8497\n",
            "Epoch 78/10000\n",
            "151/536 [=======>......................] - ETA: 1s - loss: 0.3133 - accuracy: 0.8656"
          ]
        },
        {
          "output_type": "error",
          "ename": "KeyboardInterrupt",
          "evalue": "ignored",
          "traceback": [
            "\u001b[0;31m---------------------------------------------------------------------------\u001b[0m",
            "\u001b[0;31mKeyboardInterrupt\u001b[0m                         Traceback (most recent call last)",
            "\u001b[0;32m<ipython-input-19-c500a02f29cc>\u001b[0m in \u001b[0;36m<module>\u001b[0;34m\u001b[0m\n\u001b[0;32m----> 1\u001b[0;31m \u001b[0mmodel_histroy\u001b[0m\u001b[0;34m=\u001b[0m\u001b[0mclassifier\u001b[0m\u001b[0;34m.\u001b[0m\u001b[0mfit\u001b[0m\u001b[0;34m(\u001b[0m\u001b[0mX_train\u001b[0m\u001b[0;34m,\u001b[0m\u001b[0my_train\u001b[0m\u001b[0;34m,\u001b[0m\u001b[0mvalidation_split\u001b[0m\u001b[0;34m=\u001b[0m\u001b[0;36m0.33\u001b[0m\u001b[0;34m,\u001b[0m\u001b[0mbatch_size\u001b[0m\u001b[0;34m=\u001b[0m\u001b[0;36m10\u001b[0m\u001b[0;34m,\u001b[0m\u001b[0mepochs\u001b[0m\u001b[0;34m=\u001b[0m\u001b[0;36m10000\u001b[0m\u001b[0;34m)\u001b[0m\u001b[0;34m\u001b[0m\u001b[0;34m\u001b[0m\u001b[0m\n\u001b[0m",
            "\u001b[0;32m/usr/local/lib/python3.7/dist-packages/keras/utils/traceback_utils.py\u001b[0m in \u001b[0;36merror_handler\u001b[0;34m(*args, **kwargs)\u001b[0m\n\u001b[1;32m     62\u001b[0m     \u001b[0mfiltered_tb\u001b[0m \u001b[0;34m=\u001b[0m \u001b[0;32mNone\u001b[0m\u001b[0;34m\u001b[0m\u001b[0;34m\u001b[0m\u001b[0m\n\u001b[1;32m     63\u001b[0m     \u001b[0;32mtry\u001b[0m\u001b[0;34m:\u001b[0m\u001b[0;34m\u001b[0m\u001b[0;34m\u001b[0m\u001b[0m\n\u001b[0;32m---> 64\u001b[0;31m       \u001b[0;32mreturn\u001b[0m \u001b[0mfn\u001b[0m\u001b[0;34m(\u001b[0m\u001b[0;34m*\u001b[0m\u001b[0margs\u001b[0m\u001b[0;34m,\u001b[0m \u001b[0;34m**\u001b[0m\u001b[0mkwargs\u001b[0m\u001b[0;34m)\u001b[0m\u001b[0;34m\u001b[0m\u001b[0;34m\u001b[0m\u001b[0m\n\u001b[0m\u001b[1;32m     65\u001b[0m     \u001b[0;32mexcept\u001b[0m \u001b[0mException\u001b[0m \u001b[0;32mas\u001b[0m \u001b[0me\u001b[0m\u001b[0;34m:\u001b[0m  \u001b[0;31m# pylint: disable=broad-except\u001b[0m\u001b[0;34m\u001b[0m\u001b[0;34m\u001b[0m\u001b[0m\n\u001b[1;32m     66\u001b[0m       \u001b[0mfiltered_tb\u001b[0m \u001b[0;34m=\u001b[0m \u001b[0m_process_traceback_frames\u001b[0m\u001b[0;34m(\u001b[0m\u001b[0me\u001b[0m\u001b[0;34m.\u001b[0m\u001b[0m__traceback__\u001b[0m\u001b[0;34m)\u001b[0m\u001b[0;34m\u001b[0m\u001b[0;34m\u001b[0m\u001b[0m\n",
            "\u001b[0;32m/usr/local/lib/python3.7/dist-packages/keras/engine/training.py\u001b[0m in \u001b[0;36mfit\u001b[0;34m(self, x, y, batch_size, epochs, verbose, callbacks, validation_split, validation_data, shuffle, class_weight, sample_weight, initial_epoch, steps_per_epoch, validation_steps, validation_batch_size, validation_freq, max_queue_size, workers, use_multiprocessing)\u001b[0m\n\u001b[1;32m   1382\u001b[0m                 _r=1):\n\u001b[1;32m   1383\u001b[0m               \u001b[0mcallbacks\u001b[0m\u001b[0;34m.\u001b[0m\u001b[0mon_train_batch_begin\u001b[0m\u001b[0;34m(\u001b[0m\u001b[0mstep\u001b[0m\u001b[0;34m)\u001b[0m\u001b[0;34m\u001b[0m\u001b[0;34m\u001b[0m\u001b[0m\n\u001b[0;32m-> 1384\u001b[0;31m               \u001b[0mtmp_logs\u001b[0m \u001b[0;34m=\u001b[0m \u001b[0mself\u001b[0m\u001b[0;34m.\u001b[0m\u001b[0mtrain_function\u001b[0m\u001b[0;34m(\u001b[0m\u001b[0miterator\u001b[0m\u001b[0;34m)\u001b[0m\u001b[0;34m\u001b[0m\u001b[0;34m\u001b[0m\u001b[0m\n\u001b[0m\u001b[1;32m   1385\u001b[0m               \u001b[0;32mif\u001b[0m \u001b[0mdata_handler\u001b[0m\u001b[0;34m.\u001b[0m\u001b[0mshould_sync\u001b[0m\u001b[0;34m:\u001b[0m\u001b[0;34m\u001b[0m\u001b[0;34m\u001b[0m\u001b[0m\n\u001b[1;32m   1386\u001b[0m                 \u001b[0mcontext\u001b[0m\u001b[0;34m.\u001b[0m\u001b[0masync_wait\u001b[0m\u001b[0;34m(\u001b[0m\u001b[0;34m)\u001b[0m\u001b[0;34m\u001b[0m\u001b[0;34m\u001b[0m\u001b[0m\n",
            "\u001b[0;32m/usr/local/lib/python3.7/dist-packages/tensorflow/python/util/traceback_utils.py\u001b[0m in \u001b[0;36merror_handler\u001b[0;34m(*args, **kwargs)\u001b[0m\n\u001b[1;32m    148\u001b[0m     \u001b[0mfiltered_tb\u001b[0m \u001b[0;34m=\u001b[0m \u001b[0;32mNone\u001b[0m\u001b[0;34m\u001b[0m\u001b[0;34m\u001b[0m\u001b[0m\n\u001b[1;32m    149\u001b[0m     \u001b[0;32mtry\u001b[0m\u001b[0;34m:\u001b[0m\u001b[0;34m\u001b[0m\u001b[0;34m\u001b[0m\u001b[0m\n\u001b[0;32m--> 150\u001b[0;31m       \u001b[0;32mreturn\u001b[0m \u001b[0mfn\u001b[0m\u001b[0;34m(\u001b[0m\u001b[0;34m*\u001b[0m\u001b[0margs\u001b[0m\u001b[0;34m,\u001b[0m \u001b[0;34m**\u001b[0m\u001b[0mkwargs\u001b[0m\u001b[0;34m)\u001b[0m\u001b[0;34m\u001b[0m\u001b[0;34m\u001b[0m\u001b[0m\n\u001b[0m\u001b[1;32m    151\u001b[0m     \u001b[0;32mexcept\u001b[0m \u001b[0mException\u001b[0m \u001b[0;32mas\u001b[0m \u001b[0me\u001b[0m\u001b[0;34m:\u001b[0m\u001b[0;34m\u001b[0m\u001b[0;34m\u001b[0m\u001b[0m\n\u001b[1;32m    152\u001b[0m       \u001b[0mfiltered_tb\u001b[0m \u001b[0;34m=\u001b[0m \u001b[0m_process_traceback_frames\u001b[0m\u001b[0;34m(\u001b[0m\u001b[0me\u001b[0m\u001b[0;34m.\u001b[0m\u001b[0m__traceback__\u001b[0m\u001b[0;34m)\u001b[0m\u001b[0;34m\u001b[0m\u001b[0;34m\u001b[0m\u001b[0m\n",
            "\u001b[0;32m/usr/local/lib/python3.7/dist-packages/tensorflow/python/eager/def_function.py\u001b[0m in \u001b[0;36m__call__\u001b[0;34m(self, *args, **kwds)\u001b[0m\n\u001b[1;32m    913\u001b[0m \u001b[0;34m\u001b[0m\u001b[0m\n\u001b[1;32m    914\u001b[0m       \u001b[0;32mwith\u001b[0m \u001b[0mOptionalXlaContext\u001b[0m\u001b[0;34m(\u001b[0m\u001b[0mself\u001b[0m\u001b[0;34m.\u001b[0m\u001b[0m_jit_compile\u001b[0m\u001b[0;34m)\u001b[0m\u001b[0;34m:\u001b[0m\u001b[0;34m\u001b[0m\u001b[0;34m\u001b[0m\u001b[0m\n\u001b[0;32m--> 915\u001b[0;31m         \u001b[0mresult\u001b[0m \u001b[0;34m=\u001b[0m \u001b[0mself\u001b[0m\u001b[0;34m.\u001b[0m\u001b[0m_call\u001b[0m\u001b[0;34m(\u001b[0m\u001b[0;34m*\u001b[0m\u001b[0margs\u001b[0m\u001b[0;34m,\u001b[0m \u001b[0;34m**\u001b[0m\u001b[0mkwds\u001b[0m\u001b[0;34m)\u001b[0m\u001b[0;34m\u001b[0m\u001b[0;34m\u001b[0m\u001b[0m\n\u001b[0m\u001b[1;32m    916\u001b[0m \u001b[0;34m\u001b[0m\u001b[0m\n\u001b[1;32m    917\u001b[0m       \u001b[0mnew_tracing_count\u001b[0m \u001b[0;34m=\u001b[0m \u001b[0mself\u001b[0m\u001b[0;34m.\u001b[0m\u001b[0mexperimental_get_tracing_count\u001b[0m\u001b[0;34m(\u001b[0m\u001b[0;34m)\u001b[0m\u001b[0;34m\u001b[0m\u001b[0;34m\u001b[0m\u001b[0m\n",
            "\u001b[0;32m/usr/local/lib/python3.7/dist-packages/tensorflow/python/eager/def_function.py\u001b[0m in \u001b[0;36m_call\u001b[0;34m(self, *args, **kwds)\u001b[0m\n\u001b[1;32m    945\u001b[0m       \u001b[0;31m# In this case we have created variables on the first call, so we run the\u001b[0m\u001b[0;34m\u001b[0m\u001b[0;34m\u001b[0m\u001b[0;34m\u001b[0m\u001b[0m\n\u001b[1;32m    946\u001b[0m       \u001b[0;31m# defunned version which is guaranteed to never create variables.\u001b[0m\u001b[0;34m\u001b[0m\u001b[0;34m\u001b[0m\u001b[0;34m\u001b[0m\u001b[0m\n\u001b[0;32m--> 947\u001b[0;31m       \u001b[0;32mreturn\u001b[0m \u001b[0mself\u001b[0m\u001b[0;34m.\u001b[0m\u001b[0m_stateless_fn\u001b[0m\u001b[0;34m(\u001b[0m\u001b[0;34m*\u001b[0m\u001b[0margs\u001b[0m\u001b[0;34m,\u001b[0m \u001b[0;34m**\u001b[0m\u001b[0mkwds\u001b[0m\u001b[0;34m)\u001b[0m  \u001b[0;31m# pylint: disable=not-callable\u001b[0m\u001b[0;34m\u001b[0m\u001b[0;34m\u001b[0m\u001b[0m\n\u001b[0m\u001b[1;32m    948\u001b[0m     \u001b[0;32melif\u001b[0m \u001b[0mself\u001b[0m\u001b[0;34m.\u001b[0m\u001b[0m_stateful_fn\u001b[0m \u001b[0;32mis\u001b[0m \u001b[0;32mnot\u001b[0m \u001b[0;32mNone\u001b[0m\u001b[0;34m:\u001b[0m\u001b[0;34m\u001b[0m\u001b[0;34m\u001b[0m\u001b[0m\n\u001b[1;32m    949\u001b[0m       \u001b[0;31m# Release the lock early so that multiple threads can perform the call\u001b[0m\u001b[0;34m\u001b[0m\u001b[0;34m\u001b[0m\u001b[0;34m\u001b[0m\u001b[0m\n",
            "\u001b[0;32m/usr/local/lib/python3.7/dist-packages/tensorflow/python/eager/function.py\u001b[0m in \u001b[0;36m__call__\u001b[0;34m(self, *args, **kwargs)\u001b[0m\n\u001b[1;32m   2955\u001b[0m        filtered_flat_args) = self._maybe_define_function(args, kwargs)\n\u001b[1;32m   2956\u001b[0m     return graph_function._call_flat(\n\u001b[0;32m-> 2957\u001b[0;31m         filtered_flat_args, captured_inputs=graph_function.captured_inputs)  # pylint: disable=protected-access\n\u001b[0m\u001b[1;32m   2958\u001b[0m \u001b[0;34m\u001b[0m\u001b[0m\n\u001b[1;32m   2959\u001b[0m   \u001b[0;34m@\u001b[0m\u001b[0mproperty\u001b[0m\u001b[0;34m\u001b[0m\u001b[0;34m\u001b[0m\u001b[0m\n",
            "\u001b[0;32m/usr/local/lib/python3.7/dist-packages/tensorflow/python/eager/function.py\u001b[0m in \u001b[0;36m_call_flat\u001b[0;34m(self, args, captured_inputs, cancellation_manager)\u001b[0m\n\u001b[1;32m   1852\u001b[0m       \u001b[0;31m# No tape is watching; skip to running the function.\u001b[0m\u001b[0;34m\u001b[0m\u001b[0;34m\u001b[0m\u001b[0;34m\u001b[0m\u001b[0m\n\u001b[1;32m   1853\u001b[0m       return self._build_call_outputs(self._inference_function.call(\n\u001b[0;32m-> 1854\u001b[0;31m           ctx, args, cancellation_manager=cancellation_manager))\n\u001b[0m\u001b[1;32m   1855\u001b[0m     forward_backward = self._select_forward_and_backward_functions(\n\u001b[1;32m   1856\u001b[0m         \u001b[0margs\u001b[0m\u001b[0;34m,\u001b[0m\u001b[0;34m\u001b[0m\u001b[0;34m\u001b[0m\u001b[0m\n",
            "\u001b[0;32m/usr/local/lib/python3.7/dist-packages/tensorflow/python/eager/function.py\u001b[0m in \u001b[0;36mcall\u001b[0;34m(self, ctx, args, cancellation_manager)\u001b[0m\n\u001b[1;32m    502\u001b[0m               \u001b[0minputs\u001b[0m\u001b[0;34m=\u001b[0m\u001b[0margs\u001b[0m\u001b[0;34m,\u001b[0m\u001b[0;34m\u001b[0m\u001b[0;34m\u001b[0m\u001b[0m\n\u001b[1;32m    503\u001b[0m               \u001b[0mattrs\u001b[0m\u001b[0;34m=\u001b[0m\u001b[0mattrs\u001b[0m\u001b[0;34m,\u001b[0m\u001b[0;34m\u001b[0m\u001b[0;34m\u001b[0m\u001b[0m\n\u001b[0;32m--> 504\u001b[0;31m               ctx=ctx)\n\u001b[0m\u001b[1;32m    505\u001b[0m         \u001b[0;32melse\u001b[0m\u001b[0;34m:\u001b[0m\u001b[0;34m\u001b[0m\u001b[0;34m\u001b[0m\u001b[0m\n\u001b[1;32m    506\u001b[0m           outputs = execute.execute_with_cancellation(\n",
            "\u001b[0;32m/usr/local/lib/python3.7/dist-packages/tensorflow/python/eager/execute.py\u001b[0m in \u001b[0;36mquick_execute\u001b[0;34m(op_name, num_outputs, inputs, attrs, ctx, name)\u001b[0m\n\u001b[1;32m     53\u001b[0m     \u001b[0mctx\u001b[0m\u001b[0;34m.\u001b[0m\u001b[0mensure_initialized\u001b[0m\u001b[0;34m(\u001b[0m\u001b[0;34m)\u001b[0m\u001b[0;34m\u001b[0m\u001b[0;34m\u001b[0m\u001b[0m\n\u001b[1;32m     54\u001b[0m     tensors = pywrap_tfe.TFE_Py_Execute(ctx._handle, device_name, op_name,\n\u001b[0;32m---> 55\u001b[0;31m                                         inputs, attrs, num_outputs)\n\u001b[0m\u001b[1;32m     56\u001b[0m   \u001b[0;32mexcept\u001b[0m \u001b[0mcore\u001b[0m\u001b[0;34m.\u001b[0m\u001b[0m_NotOkStatusException\u001b[0m \u001b[0;32mas\u001b[0m \u001b[0me\u001b[0m\u001b[0;34m:\u001b[0m\u001b[0;34m\u001b[0m\u001b[0;34m\u001b[0m\u001b[0m\n\u001b[1;32m     57\u001b[0m     \u001b[0;32mif\u001b[0m \u001b[0mname\u001b[0m \u001b[0;32mis\u001b[0m \u001b[0;32mnot\u001b[0m \u001b[0;32mNone\u001b[0m\u001b[0;34m:\u001b[0m\u001b[0;34m\u001b[0m\u001b[0;34m\u001b[0m\u001b[0m\n",
            "\u001b[0;31mKeyboardInterrupt\u001b[0m: "
          ]
        }
      ]
    },
    {
      "cell_type": "code",
      "source": [
        "# In above after certain epoch the accuracy is not going to increase so it is a waste to run for 1000 epoch \n",
        "# instead here Early Stopping is used....it will stop the iteration when the accuracy is not increasing"
      ],
      "metadata": {
        "id": "MVefPEQSrvPk"
      },
      "execution_count": 23,
      "outputs": []
    },
    {
      "cell_type": "code",
      "source": [
        "## Early Stopping\n",
        "\n",
        "early_stopping=tf.keras.callbacks.EarlyStopping(\n",
        "    monitor=\"val_loss\",\n",
        "    min_delta=0.0001,\n",
        "    patience=20,\n",
        "    verbose=1,\n",
        "    mode=\"auto\",\n",
        "    baseline=None,\n",
        "    restore_best_weights=False,\n",
        ")\n"
      ],
      "metadata": {
        "id": "w0mqkXqkqfpK"
      },
      "execution_count": 54,
      "outputs": []
    },
    {
      "cell_type": "code",
      "source": [
        "model_history=classifier.fit(X_train,y_train,validation_split=0.33,batch_size=10,epochs=1000,callbacks=early_stopping)"
      ],
      "metadata": {
        "colab": {
          "base_uri": "https://localhost:8080/"
        },
        "id": "qkopzMWBrUEB",
        "outputId": "1809d9e6-ab31-4ddd-d089-e21371e91888"
      },
      "execution_count": 55,
      "outputs": [
        {
          "output_type": "stream",
          "name": "stdout",
          "text": [
            "Epoch 1/1000\n",
            "536/536 [==============================] - 3s 5ms/step - loss: 0.4985 - accuracy: 0.7953 - val_loss: 0.4467 - val_accuracy: 0.7955\n",
            "Epoch 2/1000\n",
            "536/536 [==============================] - 2s 4ms/step - loss: 0.4299 - accuracy: 0.7975 - val_loss: 0.4300 - val_accuracy: 0.7970\n",
            "Epoch 3/1000\n",
            "536/536 [==============================] - 2s 4ms/step - loss: 0.4132 - accuracy: 0.8020 - val_loss: 0.4151 - val_accuracy: 0.8012\n",
            "Epoch 4/1000\n",
            "536/536 [==============================] - 2s 4ms/step - loss: 0.3926 - accuracy: 0.8121 - val_loss: 0.3970 - val_accuracy: 0.8095\n",
            "Epoch 5/1000\n",
            "536/536 [==============================] - 2s 4ms/step - loss: 0.3740 - accuracy: 0.8222 - val_loss: 0.3865 - val_accuracy: 0.8311\n",
            "Epoch 6/1000\n",
            "536/536 [==============================] - 2s 4ms/step - loss: 0.3637 - accuracy: 0.8464 - val_loss: 0.3804 - val_accuracy: 0.8455\n",
            "Epoch 7/1000\n",
            "536/536 [==============================] - 2s 4ms/step - loss: 0.3577 - accuracy: 0.8502 - val_loss: 0.3782 - val_accuracy: 0.8451\n",
            "Epoch 8/1000\n",
            "536/536 [==============================] - 3s 6ms/step - loss: 0.3531 - accuracy: 0.8520 - val_loss: 0.3773 - val_accuracy: 0.8474\n",
            "Epoch 9/1000\n",
            "536/536 [==============================] - 3s 6ms/step - loss: 0.3513 - accuracy: 0.8552 - val_loss: 0.3771 - val_accuracy: 0.8459\n",
            "Epoch 10/1000\n",
            "536/536 [==============================] - 4s 8ms/step - loss: 0.3486 - accuracy: 0.8578 - val_loss: 0.3774 - val_accuracy: 0.8425\n",
            "Epoch 11/1000\n",
            "536/536 [==============================] - 4s 7ms/step - loss: 0.3466 - accuracy: 0.8574 - val_loss: 0.3735 - val_accuracy: 0.8474\n",
            "Epoch 12/1000\n",
            "536/536 [==============================] - 4s 7ms/step - loss: 0.3455 - accuracy: 0.8586 - val_loss: 0.3721 - val_accuracy: 0.8474\n",
            "Epoch 13/1000\n",
            "536/536 [==============================] - 2s 4ms/step - loss: 0.3433 - accuracy: 0.8593 - val_loss: 0.3724 - val_accuracy: 0.8470\n",
            "Epoch 14/1000\n",
            "536/536 [==============================] - 2s 4ms/step - loss: 0.3413 - accuracy: 0.8614 - val_loss: 0.3739 - val_accuracy: 0.8429\n",
            "Epoch 15/1000\n",
            "536/536 [==============================] - 2s 4ms/step - loss: 0.3406 - accuracy: 0.8614 - val_loss: 0.3707 - val_accuracy: 0.8463\n",
            "Epoch 16/1000\n",
            "536/536 [==============================] - 2s 4ms/step - loss: 0.3401 - accuracy: 0.8608 - val_loss: 0.3701 - val_accuracy: 0.8451\n",
            "Epoch 17/1000\n",
            "536/536 [==============================] - 2s 4ms/step - loss: 0.3383 - accuracy: 0.8615 - val_loss: 0.3697 - val_accuracy: 0.8436\n",
            "Epoch 18/1000\n",
            "536/536 [==============================] - 2s 4ms/step - loss: 0.3375 - accuracy: 0.8610 - val_loss: 0.3695 - val_accuracy: 0.8440\n",
            "Epoch 19/1000\n",
            "536/536 [==============================] - 2s 4ms/step - loss: 0.3363 - accuracy: 0.8619 - val_loss: 0.3691 - val_accuracy: 0.8436\n",
            "Epoch 20/1000\n",
            "536/536 [==============================] - 2s 4ms/step - loss: 0.3350 - accuracy: 0.8628 - val_loss: 0.3689 - val_accuracy: 0.8459\n",
            "Epoch 21/1000\n",
            "536/536 [==============================] - 2s 4ms/step - loss: 0.3342 - accuracy: 0.8621 - val_loss: 0.3699 - val_accuracy: 0.8406\n",
            "Epoch 22/1000\n",
            "536/536 [==============================] - 2s 4ms/step - loss: 0.3330 - accuracy: 0.8645 - val_loss: 0.3660 - val_accuracy: 0.8463\n",
            "Epoch 23/1000\n",
            "536/536 [==============================] - 2s 4ms/step - loss: 0.3324 - accuracy: 0.8643 - val_loss: 0.3668 - val_accuracy: 0.8493\n",
            "Epoch 24/1000\n",
            "536/536 [==============================] - 2s 4ms/step - loss: 0.3318 - accuracy: 0.8625 - val_loss: 0.3663 - val_accuracy: 0.8451\n",
            "Epoch 25/1000\n",
            "536/536 [==============================] - 2s 4ms/step - loss: 0.3313 - accuracy: 0.8638 - val_loss: 0.3690 - val_accuracy: 0.8485\n",
            "Epoch 26/1000\n",
            "536/536 [==============================] - 2s 4ms/step - loss: 0.3310 - accuracy: 0.8638 - val_loss: 0.3704 - val_accuracy: 0.8425\n",
            "Epoch 27/1000\n",
            "536/536 [==============================] - 2s 4ms/step - loss: 0.3301 - accuracy: 0.8617 - val_loss: 0.3667 - val_accuracy: 0.8440\n",
            "Epoch 28/1000\n",
            "536/536 [==============================] - 2s 4ms/step - loss: 0.3297 - accuracy: 0.8643 - val_loss: 0.3683 - val_accuracy: 0.8459\n",
            "Epoch 29/1000\n",
            "536/536 [==============================] - 2s 4ms/step - loss: 0.3288 - accuracy: 0.8627 - val_loss: 0.3657 - val_accuracy: 0.8508\n",
            "Epoch 30/1000\n",
            "536/536 [==============================] - 2s 4ms/step - loss: 0.3287 - accuracy: 0.8664 - val_loss: 0.3657 - val_accuracy: 0.8455\n",
            "Epoch 31/1000\n",
            "536/536 [==============================] - 2s 4ms/step - loss: 0.3288 - accuracy: 0.8643 - val_loss: 0.3669 - val_accuracy: 0.8463\n",
            "Epoch 32/1000\n",
            "536/536 [==============================] - 2s 4ms/step - loss: 0.3277 - accuracy: 0.8656 - val_loss: 0.3674 - val_accuracy: 0.8440\n",
            "Epoch 33/1000\n",
            "536/536 [==============================] - 2s 4ms/step - loss: 0.3263 - accuracy: 0.8642 - val_loss: 0.3688 - val_accuracy: 0.8501\n",
            "Epoch 34/1000\n",
            "536/536 [==============================] - 2s 4ms/step - loss: 0.3272 - accuracy: 0.8642 - val_loss: 0.3678 - val_accuracy: 0.8523\n",
            "Epoch 35/1000\n",
            "536/536 [==============================] - 2s 4ms/step - loss: 0.3263 - accuracy: 0.8656 - val_loss: 0.3648 - val_accuracy: 0.8485\n",
            "Epoch 36/1000\n",
            "536/536 [==============================] - 2s 4ms/step - loss: 0.3249 - accuracy: 0.8643 - val_loss: 0.3644 - val_accuracy: 0.8531\n",
            "Epoch 37/1000\n",
            "536/536 [==============================] - 2s 4ms/step - loss: 0.3244 - accuracy: 0.8653 - val_loss: 0.3642 - val_accuracy: 0.8466\n",
            "Epoch 38/1000\n",
            "536/536 [==============================] - 2s 4ms/step - loss: 0.3238 - accuracy: 0.8640 - val_loss: 0.3677 - val_accuracy: 0.8478\n",
            "Epoch 39/1000\n",
            "536/536 [==============================] - 2s 4ms/step - loss: 0.3236 - accuracy: 0.8649 - val_loss: 0.3659 - val_accuracy: 0.8508\n",
            "Epoch 40/1000\n",
            "536/536 [==============================] - 2s 4ms/step - loss: 0.3235 - accuracy: 0.8649 - val_loss: 0.3661 - val_accuracy: 0.8497\n",
            "Epoch 41/1000\n",
            "536/536 [==============================] - 2s 4ms/step - loss: 0.3223 - accuracy: 0.8658 - val_loss: 0.3653 - val_accuracy: 0.8493\n",
            "Epoch 42/1000\n",
            "536/536 [==============================] - 2s 4ms/step - loss: 0.3227 - accuracy: 0.8649 - val_loss: 0.3648 - val_accuracy: 0.8504\n",
            "Epoch 43/1000\n",
            "536/536 [==============================] - 2s 4ms/step - loss: 0.3220 - accuracy: 0.8662 - val_loss: 0.3665 - val_accuracy: 0.8512\n",
            "Epoch 44/1000\n",
            "536/536 [==============================] - 3s 5ms/step - loss: 0.3220 - accuracy: 0.8649 - val_loss: 0.3637 - val_accuracy: 0.8538\n",
            "Epoch 45/1000\n",
            "536/536 [==============================] - 2s 4ms/step - loss: 0.3217 - accuracy: 0.8677 - val_loss: 0.3643 - val_accuracy: 0.8523\n",
            "Epoch 46/1000\n",
            "536/536 [==============================] - 2s 4ms/step - loss: 0.3220 - accuracy: 0.8642 - val_loss: 0.3637 - val_accuracy: 0.8501\n",
            "Epoch 47/1000\n",
            "536/536 [==============================] - 2s 4ms/step - loss: 0.3213 - accuracy: 0.8655 - val_loss: 0.3642 - val_accuracy: 0.8531\n",
            "Epoch 48/1000\n",
            "536/536 [==============================] - 2s 4ms/step - loss: 0.3211 - accuracy: 0.8662 - val_loss: 0.3626 - val_accuracy: 0.8504\n",
            "Epoch 49/1000\n",
            "536/536 [==============================] - 2s 4ms/step - loss: 0.3208 - accuracy: 0.8696 - val_loss: 0.3641 - val_accuracy: 0.8504\n",
            "Epoch 50/1000\n",
            "536/536 [==============================] - 2s 4ms/step - loss: 0.3205 - accuracy: 0.8677 - val_loss: 0.3619 - val_accuracy: 0.8504\n",
            "Epoch 51/1000\n",
            "536/536 [==============================] - 3s 6ms/step - loss: 0.3205 - accuracy: 0.8666 - val_loss: 0.3640 - val_accuracy: 0.8493\n",
            "Epoch 52/1000\n",
            "536/536 [==============================] - 3s 5ms/step - loss: 0.3212 - accuracy: 0.8649 - val_loss: 0.3634 - val_accuracy: 0.8516\n",
            "Epoch 53/1000\n",
            "536/536 [==============================] - 2s 4ms/step - loss: 0.3204 - accuracy: 0.8660 - val_loss: 0.3626 - val_accuracy: 0.8504\n",
            "Epoch 54/1000\n",
            "536/536 [==============================] - 2s 4ms/step - loss: 0.3202 - accuracy: 0.8649 - val_loss: 0.3627 - val_accuracy: 0.8508\n",
            "Epoch 55/1000\n",
            "536/536 [==============================] - 2s 4ms/step - loss: 0.3199 - accuracy: 0.8677 - val_loss: 0.3641 - val_accuracy: 0.8523\n",
            "Epoch 56/1000\n",
            "536/536 [==============================] - 2s 4ms/step - loss: 0.3201 - accuracy: 0.8662 - val_loss: 0.3619 - val_accuracy: 0.8512\n",
            "Epoch 57/1000\n",
            "536/536 [==============================] - 2s 4ms/step - loss: 0.3197 - accuracy: 0.8684 - val_loss: 0.3626 - val_accuracy: 0.8512\n",
            "Epoch 58/1000\n",
            "536/536 [==============================] - 2s 4ms/step - loss: 0.3191 - accuracy: 0.8655 - val_loss: 0.3619 - val_accuracy: 0.8519\n",
            "Epoch 59/1000\n",
            "536/536 [==============================] - 2s 4ms/step - loss: 0.3188 - accuracy: 0.8670 - val_loss: 0.3656 - val_accuracy: 0.8493\n",
            "Epoch 60/1000\n",
            "536/536 [==============================] - 2s 4ms/step - loss: 0.3198 - accuracy: 0.8660 - val_loss: 0.3616 - val_accuracy: 0.8508\n",
            "Epoch 61/1000\n",
            "536/536 [==============================] - 2s 4ms/step - loss: 0.3189 - accuracy: 0.8636 - val_loss: 0.3600 - val_accuracy: 0.8527\n",
            "Epoch 62/1000\n",
            "536/536 [==============================] - 2s 4ms/step - loss: 0.3190 - accuracy: 0.8675 - val_loss: 0.3608 - val_accuracy: 0.8531\n",
            "Epoch 63/1000\n",
            "536/536 [==============================] - 2s 4ms/step - loss: 0.3192 - accuracy: 0.8655 - val_loss: 0.3628 - val_accuracy: 0.8508\n",
            "Epoch 64/1000\n",
            "536/536 [==============================] - 2s 4ms/step - loss: 0.3182 - accuracy: 0.8664 - val_loss: 0.3640 - val_accuracy: 0.8501\n",
            "Epoch 65/1000\n",
            "536/536 [==============================] - 2s 4ms/step - loss: 0.3187 - accuracy: 0.8666 - val_loss: 0.3649 - val_accuracy: 0.8508\n",
            "Epoch 66/1000\n",
            "536/536 [==============================] - 2s 4ms/step - loss: 0.3180 - accuracy: 0.8671 - val_loss: 0.3646 - val_accuracy: 0.8516\n",
            "Epoch 67/1000\n",
            "536/536 [==============================] - 2s 4ms/step - loss: 0.3181 - accuracy: 0.8656 - val_loss: 0.3638 - val_accuracy: 0.8508\n",
            "Epoch 68/1000\n",
            "536/536 [==============================] - 2s 4ms/step - loss: 0.3176 - accuracy: 0.8673 - val_loss: 0.3621 - val_accuracy: 0.8546\n",
            "Epoch 69/1000\n",
            "536/536 [==============================] - 2s 4ms/step - loss: 0.3184 - accuracy: 0.8670 - val_loss: 0.3626 - val_accuracy: 0.8493\n",
            "Epoch 70/1000\n",
            "536/536 [==============================] - 2s 4ms/step - loss: 0.3167 - accuracy: 0.8690 - val_loss: 0.3643 - val_accuracy: 0.8516\n",
            "Epoch 71/1000\n",
            "536/536 [==============================] - 2s 4ms/step - loss: 0.3180 - accuracy: 0.8681 - val_loss: 0.3614 - val_accuracy: 0.8565\n",
            "Epoch 72/1000\n",
            "536/536 [==============================] - 2s 4ms/step - loss: 0.3169 - accuracy: 0.8673 - val_loss: 0.3627 - val_accuracy: 0.8527\n",
            "Epoch 73/1000\n",
            "536/536 [==============================] - 3s 6ms/step - loss: 0.3173 - accuracy: 0.8683 - val_loss: 0.3613 - val_accuracy: 0.8504\n",
            "Epoch 74/1000\n",
            "536/536 [==============================] - 2s 4ms/step - loss: 0.3168 - accuracy: 0.8679 - val_loss: 0.3678 - val_accuracy: 0.8508\n",
            "Epoch 75/1000\n",
            "536/536 [==============================] - 2s 4ms/step - loss: 0.3169 - accuracy: 0.8692 - val_loss: 0.3652 - val_accuracy: 0.8535\n",
            "Epoch 76/1000\n",
            "536/536 [==============================] - 2s 4ms/step - loss: 0.3167 - accuracy: 0.8677 - val_loss: 0.3619 - val_accuracy: 0.8538\n",
            "Epoch 77/1000\n",
            "536/536 [==============================] - 2s 4ms/step - loss: 0.3160 - accuracy: 0.8688 - val_loss: 0.3646 - val_accuracy: 0.8527\n",
            "Epoch 78/1000\n",
            "536/536 [==============================] - 2s 4ms/step - loss: 0.3160 - accuracy: 0.8679 - val_loss: 0.3618 - val_accuracy: 0.8561\n",
            "Epoch 79/1000\n",
            "536/536 [==============================] - 2s 4ms/step - loss: 0.3161 - accuracy: 0.8673 - val_loss: 0.3645 - val_accuracy: 0.8550\n",
            "Epoch 80/1000\n",
            "536/536 [==============================] - 2s 4ms/step - loss: 0.3164 - accuracy: 0.8673 - val_loss: 0.3615 - val_accuracy: 0.8535\n",
            "Epoch 81/1000\n",
            "536/536 [==============================] - 2s 4ms/step - loss: 0.3155 - accuracy: 0.8694 - val_loss: 0.3608 - val_accuracy: 0.8554\n",
            "Epoch 81: early stopping\n"
          ]
        }
      ]
    },
    {
      "cell_type": "code",
      "source": [
        "model_history.history.keys()"
      ],
      "metadata": {
        "colab": {
          "base_uri": "https://localhost:8080/"
        },
        "id": "NY2QnICZssVc",
        "outputId": "0cbea1f2-c6a9-4961-9d5e-0f39ba67ae02"
      },
      "execution_count": 56,
      "outputs": [
        {
          "output_type": "execute_result",
          "data": {
            "text/plain": [
              "dict_keys(['loss', 'accuracy', 'val_loss', 'val_accuracy'])"
            ]
          },
          "metadata": {},
          "execution_count": 56
        }
      ]
    },
    {
      "cell_type": "code",
      "source": [
        "## plotting history for accuracy\n",
        "\n",
        "plt.plot(model_history.history['accuracy'])\n",
        "plt.plot(model_history.history['val_accuracy'])\n",
        "plt.title('model accuracy')\n",
        "plt.ylabel('accuracy')\n",
        "plt.xlabel('epoch')\n",
        "plt.legend(['train','test'], loc='upper left')\n",
        "plt.show()"
      ],
      "metadata": {
        "colab": {
          "base_uri": "https://localhost:8080/",
          "height": 295
        },
        "id": "mL0v5CkWtitp",
        "outputId": "a7b0218a-4229-49b3-db3f-397df52103bf"
      },
      "execution_count": 57,
      "outputs": [
        {
          "output_type": "display_data",
          "data": {
            "text/plain": [
              "<Figure size 432x288 with 1 Axes>"
            ],
            "image/png": "[encoded data removed]"
          },
          "metadata": {
            "needs_background": "light"
          }
        }
      ]
    },
    {
      "cell_type": "code",
      "source": [
        "## plotting history for loss\n",
        "\n",
        "plt.plot(model_history.history['loss'])\n",
        "plt.plot(model_history.history['val_loss'])\n",
        "plt.title('model loss')\n",
        "plt.ylabel('loss')\n",
        "plt.xlabel('epoch')\n",
        "plt.legend(['train','test'], loc='upper left')\n",
        "plt.show()"
      ],
      "metadata": {
        "colab": {
          "base_uri": "https://localhost:8080/",
          "height": 295
        },
        "id": "pFBqK0_1uYkB",
        "outputId": "4e8399e4-154e-4354-b31a-1ed1d6513239"
      },
      "execution_count": 58,
      "outputs": [
        {
          "output_type": "display_data",
          "data": {
            "text/plain": [
              "<Figure size 432x288 with 1 Axes>"
            ],
            "image/png": "[encoded data removed]"
          },
          "metadata": {
            "needs_background": "light"
          }
        }
      ]
    },
    {
      "cell_type": "code",
      "source": [
        "## Making the prediction\n",
        "\n",
        "y_pred=classifier.predict(X_test)\n",
        "y_pred=(y_pred>=0.5)"
      ],
      "metadata": {
        "colab": {
          "base_uri": "https://localhost:8080/"
        },
        "id": "hHBiPXABveaC",
        "outputId": "8f060642-cc6d-40a5-e0f8-56602c45402f"
      },
      "execution_count": 59,
      "outputs": [
        {
          "output_type": "stream",
          "name": "stderr",
          "text": [
            "WARNING:tensorflow:AutoGraph could not transform <function Model.make_predict_function.<locals>.predict_function at 0x7fa83b2054d0> and will run it as-is.\n",
            "Please report this to the TensorFlow team. When filing the bug, set the verbosity to 10 (on Linux, `export AUTOGRAPH_VERBOSITY=10`) and attach the full output.\n",
            "Cause: closure mismatch, requested ('self', 'step_function'), but source function had ()\n",
            "To silence this warning, decorate the function with @tf.autograph.experimental.do_not_convert\n"
          ]
        },
        {
          "output_type": "stream",
          "name": "stdout",
          "text": [
            "WARNING: AutoGraph could not transform <function Model.make_predict_function.<locals>.predict_function at 0x7fa83b2054d0> and will run it as-is.\n",
            "Please report this to the TensorFlow team. When filing the bug, set the verbosity to 10 (on Linux, `export AUTOGRAPH_VERBOSITY=10`) and attach the full output.\n",
            "Cause: closure mismatch, requested ('self', 'step_function'), but source function had ()\n",
            "To silence this warning, decorate the function with @tf.autograph.experimental.do_not_convert\n"
          ]
        }
      ]
    },
    {
      "cell_type": "code",
      "source": [
        "## Making the confusion matrix\n",
        "\n",
        "from sklearn.metrics import confusion_matrix\n",
        "matrix=confusion_matrix(y_test,y_pred)\n",
        "matrix"
      ],
      "metadata": {
        "colab": {
          "base_uri": "https://localhost:8080/"
        },
        "id": "zGmr1go5xeyD",
        "outputId": "48fef7e6-a5fd-43f1-8def-f79a4ba4e5d9"
      },
      "execution_count": 61,
      "outputs": [
        {
          "output_type": "execute_result",
          "data": {
            "text/plain": [
              "array([[1522,   73],\n",
              "       [ 210,  195]])"
            ]
          },
          "metadata": {},
          "execution_count": 61
        }
      ]
    },
    {
      "cell_type": "code",
      "source": [],
      "metadata": {
        "id": "-a_KgbSRyRkz"
      },
      "execution_count": null,
      "outputs": []
    }
  ]
}