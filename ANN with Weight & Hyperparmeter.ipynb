{
 "cells": [
  {
   "cell_type": "markdown",
   "id": "200a484d",
   "metadata": {},
   "source": [
    "# ANN with weight initialisation and Hyperparameter tuning"
   ]
  },
  {
   "cell_type": "code",
   "execution_count": 1,
   "id": "9af5e579",
   "metadata": {},
   "outputs": [],
   "source": [
    "#importing the libraries\n",
    "\n",
    "import pandas as pd\n",
    "import numpy as np"
   ]
  },
  {
   "cell_type": "code",
   "execution_count": 2,
   "id": "9cdfeeeb",
   "metadata": {},
   "outputs": [
    {
     "data": {
      "text/html": [
       "<div>\n",
       "<style scoped>\n",
       "    .dataframe tbody tr th:only-of-type {\n",
       "        vertical-align: middle;\n",
       "    }\n",
       "\n",
       "    .dataframe tbody tr th {\n",
       "        vertical-align: top;\n",
       "    }\n",
       "\n",
       "    .dataframe thead th {\n",
       "        text-align: right;\n",
       "    }\n",
       "</style>\n",
       "<table border=\"1\" class=\"dataframe\">\n",
       "  <thead>\n",
       "    <tr style=\"text-align: right;\">\n",
       "      <th></th>\n",
       "      <th>RowNumber</th>\n",
       "      <th>CustomerId</th>\n",
       "      <th>Surname</th>\n",
       "      <th>CreditScore</th>\n",
       "      <th>Geography</th>\n",
       "      <th>Gender</th>\n",
       "      <th>Age</th>\n",
       "      <th>Tenure</th>\n",
       "      <th>Balance</th>\n",
       "      <th>NumOfProducts</th>\n",
       "      <th>HasCrCard</th>\n",
       "      <th>IsActiveMember</th>\n",
       "      <th>EstimatedSalary</th>\n",
       "      <th>Exited</th>\n",
       "    </tr>\n",
       "  </thead>\n",
       "  <tbody>\n",
       "    <tr>\n",
       "      <th>0</th>\n",
       "      <td>1</td>\n",
       "      <td>15634602</td>\n",
       "      <td>Hargrave</td>\n",
       "      <td>619</td>\n",
       "      <td>France</td>\n",
       "      <td>Female</td>\n",
       "      <td>42</td>\n",
       "      <td>2</td>\n",
       "      <td>0.00</td>\n",
       "      <td>1</td>\n",
       "      <td>1</td>\n",
       "      <td>1</td>\n",
       "      <td>101348.88</td>\n",
       "      <td>1</td>\n",
       "    </tr>\n",
       "    <tr>\n",
       "      <th>1</th>\n",
       "      <td>2</td>\n",
       "      <td>15647311</td>\n",
       "      <td>Hill</td>\n",
       "      <td>608</td>\n",
       "      <td>Spain</td>\n",
       "      <td>Female</td>\n",
       "      <td>41</td>\n",
       "      <td>1</td>\n",
       "      <td>83807.86</td>\n",
       "      <td>1</td>\n",
       "      <td>0</td>\n",
       "      <td>1</td>\n",
       "      <td>112542.58</td>\n",
       "      <td>0</td>\n",
       "    </tr>\n",
       "    <tr>\n",
       "      <th>2</th>\n",
       "      <td>3</td>\n",
       "      <td>15619304</td>\n",
       "      <td>Onio</td>\n",
       "      <td>502</td>\n",
       "      <td>France</td>\n",
       "      <td>Female</td>\n",
       "      <td>42</td>\n",
       "      <td>8</td>\n",
       "      <td>159660.80</td>\n",
       "      <td>3</td>\n",
       "      <td>1</td>\n",
       "      <td>0</td>\n",
       "      <td>113931.57</td>\n",
       "      <td>1</td>\n",
       "    </tr>\n",
       "    <tr>\n",
       "      <th>3</th>\n",
       "      <td>4</td>\n",
       "      <td>15701354</td>\n",
       "      <td>Boni</td>\n",
       "      <td>699</td>\n",
       "      <td>France</td>\n",
       "      <td>Female</td>\n",
       "      <td>39</td>\n",
       "      <td>1</td>\n",
       "      <td>0.00</td>\n",
       "      <td>2</td>\n",
       "      <td>0</td>\n",
       "      <td>0</td>\n",
       "      <td>93826.63</td>\n",
       "      <td>0</td>\n",
       "    </tr>\n",
       "    <tr>\n",
       "      <th>4</th>\n",
       "      <td>5</td>\n",
       "      <td>15737888</td>\n",
       "      <td>Mitchell</td>\n",
       "      <td>850</td>\n",
       "      <td>Spain</td>\n",
       "      <td>Female</td>\n",
       "      <td>43</td>\n",
       "      <td>2</td>\n",
       "      <td>125510.82</td>\n",
       "      <td>1</td>\n",
       "      <td>1</td>\n",
       "      <td>1</td>\n",
       "      <td>79084.10</td>\n",
       "      <td>0</td>\n",
       "    </tr>\n",
       "  </tbody>\n",
       "</table>\n",
       "</div>"
      ],
      "text/plain": [
       "   RowNumber  CustomerId   Surname  CreditScore Geography  Gender  Age  \\\n",
       "0          1    15634602  Hargrave          619    France  Female   42   \n",
       "1          2    15647311      Hill          608     Spain  Female   41   \n",
       "2          3    15619304      Onio          502    France  Female   42   \n",
       "3          4    15701354      Boni          699    France  Female   39   \n",
       "4          5    15737888  Mitchell          850     Spain  Female   43   \n",
       "\n",
       "   Tenure    Balance  NumOfProducts  HasCrCard  IsActiveMember  \\\n",
       "0       2       0.00              1          1               1   \n",
       "1       1   83807.86              1          0               1   \n",
       "2       8  159660.80              3          1               0   \n",
       "3       1       0.00              2          0               0   \n",
       "4       2  125510.82              1          1               1   \n",
       "\n",
       "   EstimatedSalary  Exited  \n",
       "0        101348.88       1  \n",
       "1        112542.58       0  \n",
       "2        113931.57       1  \n",
       "3         93826.63       0  \n",
       "4         79084.10       0  "
      ]
     },
     "execution_count": 2,
     "metadata": {},
     "output_type": "execute_result"
    }
   ],
   "source": [
    "# Reading dataset\n",
    "\n",
    "df=pd.read_csv('Churn_Modelling.csv')\n",
    "df.head()"
   ]
  },
  {
   "cell_type": "code",
   "execution_count": 3,
   "id": "0e54691a",
   "metadata": {},
   "outputs": [],
   "source": [
    "# Splitting the dataset\n",
    "\n",
    "X=df.iloc[:,3:13]\n",
    "y=df.iloc[:,-1]"
   ]
  },
  {
   "cell_type": "code",
   "execution_count": 4,
   "id": "0c6b4d2e",
   "metadata": {},
   "outputs": [],
   "source": [
    "# Creating dummy variable\n",
    "geography=pd.get_dummies(X['Geography'],drop_first=True)\n",
    "Gender=pd.get_dummies(X['Gender'],drop_first=True)"
   ]
  },
  {
   "cell_type": "code",
   "execution_count": 5,
   "id": "bc0249a7",
   "metadata": {},
   "outputs": [],
   "source": [
    "X.drop(columns=['Gender','Geography'],inplace=True)"
   ]
  },
  {
   "cell_type": "code",
   "execution_count": 6,
   "id": "b03591d8",
   "metadata": {},
   "outputs": [],
   "source": [
    "X=pd.concat([X,geography,Gender],axis=1)"
   ]
  },
  {
   "cell_type": "code",
   "execution_count": 7,
   "id": "8e55718d",
   "metadata": {},
   "outputs": [
    {
     "data": {
      "text/html": [
       "<div>\n",
       "<style scoped>\n",
       "    .dataframe tbody tr th:only-of-type {\n",
       "        vertical-align: middle;\n",
       "    }\n",
       "\n",
       "    .dataframe tbody tr th {\n",
       "        vertical-align: top;\n",
       "    }\n",
       "\n",
       "    .dataframe thead th {\n",
       "        text-align: right;\n",
       "    }\n",
       "</style>\n",
       "<table border=\"1\" class=\"dataframe\">\n",
       "  <thead>\n",
       "    <tr style=\"text-align: right;\">\n",
       "      <th></th>\n",
       "      <th>CreditScore</th>\n",
       "      <th>Age</th>\n",
       "      <th>Tenure</th>\n",
       "      <th>Balance</th>\n",
       "      <th>NumOfProducts</th>\n",
       "      <th>HasCrCard</th>\n",
       "      <th>IsActiveMember</th>\n",
       "      <th>EstimatedSalary</th>\n",
       "      <th>Germany</th>\n",
       "      <th>Spain</th>\n",
       "      <th>Male</th>\n",
       "    </tr>\n",
       "  </thead>\n",
       "  <tbody>\n",
       "    <tr>\n",
       "      <th>0</th>\n",
       "      <td>619</td>\n",
       "      <td>42</td>\n",
       "      <td>2</td>\n",
       "      <td>0.00</td>\n",
       "      <td>1</td>\n",
       "      <td>1</td>\n",
       "      <td>1</td>\n",
       "      <td>101348.88</td>\n",
       "      <td>0</td>\n",
       "      <td>0</td>\n",
       "      <td>0</td>\n",
       "    </tr>\n",
       "    <tr>\n",
       "      <th>1</th>\n",
       "      <td>608</td>\n",
       "      <td>41</td>\n",
       "      <td>1</td>\n",
       "      <td>83807.86</td>\n",
       "      <td>1</td>\n",
       "      <td>0</td>\n",
       "      <td>1</td>\n",
       "      <td>112542.58</td>\n",
       "      <td>0</td>\n",
       "      <td>1</td>\n",
       "      <td>0</td>\n",
       "    </tr>\n",
       "    <tr>\n",
       "      <th>2</th>\n",
       "      <td>502</td>\n",
       "      <td>42</td>\n",
       "      <td>8</td>\n",
       "      <td>159660.80</td>\n",
       "      <td>3</td>\n",
       "      <td>1</td>\n",
       "      <td>0</td>\n",
       "      <td>113931.57</td>\n",
       "      <td>0</td>\n",
       "      <td>0</td>\n",
       "      <td>0</td>\n",
       "    </tr>\n",
       "    <tr>\n",
       "      <th>3</th>\n",
       "      <td>699</td>\n",
       "      <td>39</td>\n",
       "      <td>1</td>\n",
       "      <td>0.00</td>\n",
       "      <td>2</td>\n",
       "      <td>0</td>\n",
       "      <td>0</td>\n",
       "      <td>93826.63</td>\n",
       "      <td>0</td>\n",
       "      <td>0</td>\n",
       "      <td>0</td>\n",
       "    </tr>\n",
       "    <tr>\n",
       "      <th>4</th>\n",
       "      <td>850</td>\n",
       "      <td>43</td>\n",
       "      <td>2</td>\n",
       "      <td>125510.82</td>\n",
       "      <td>1</td>\n",
       "      <td>1</td>\n",
       "      <td>1</td>\n",
       "      <td>79084.10</td>\n",
       "      <td>0</td>\n",
       "      <td>1</td>\n",
       "      <td>0</td>\n",
       "    </tr>\n",
       "  </tbody>\n",
       "</table>\n",
       "</div>"
      ],
      "text/plain": [
       "   CreditScore  Age  Tenure    Balance  NumOfProducts  HasCrCard  \\\n",
       "0          619   42       2       0.00              1          1   \n",
       "1          608   41       1   83807.86              1          0   \n",
       "2          502   42       8  159660.80              3          1   \n",
       "3          699   39       1       0.00              2          0   \n",
       "4          850   43       2  125510.82              1          1   \n",
       "\n",
       "   IsActiveMember  EstimatedSalary  Germany  Spain  Male  \n",
       "0               1        101348.88        0      0     0  \n",
       "1               1        112542.58        0      1     0  \n",
       "2               0        113931.57        0      0     0  \n",
       "3               0         93826.63        0      0     0  \n",
       "4               1         79084.10        0      1     0  "
      ]
     },
     "execution_count": 7,
     "metadata": {},
     "output_type": "execute_result"
    }
   ],
   "source": [
    "X.head()"
   ]
  },
  {
   "cell_type": "code",
   "execution_count": 8,
   "id": "c82d0c5e",
   "metadata": {},
   "outputs": [],
   "source": [
    "# Train test split\n",
    "from sklearn.model_selection import train_test_split\n",
    "\n",
    "X_train,X_test,y_train,y_test=train_test_split(X,y,test_size=0.2,random_state=0)"
   ]
  },
  {
   "cell_type": "code",
   "execution_count": 9,
   "id": "6544cc49",
   "metadata": {},
   "outputs": [],
   "source": [
    "# Feature Scaling\n",
    "from sklearn.preprocessing import StandardScaler\n",
    "\n",
    "scaler=StandardScaler()\n",
    "X_train=scaler.fit_transform(X_train)\n",
    "X_test=scaler.transform(X_test)"
   ]
  },
  {
   "cell_type": "code",
   "execution_count": 10,
   "id": "357bb9c8",
   "metadata": {},
   "outputs": [
    {
     "data": {
      "text/plain": [
       "((8000, 11), (2000, 11))"
      ]
     },
     "execution_count": 10,
     "metadata": {},
     "output_type": "execute_result"
    }
   ],
   "source": [
    "X_train.shape,X_test.shape"
   ]
  },
  {
   "cell_type": "code",
   "execution_count": 11,
   "id": "d41c0f1d",
   "metadata": {},
   "outputs": [],
   "source": [
    "# importing keras libraries and packages\n",
    "\n",
    "import keras\n",
    "from keras.models import Sequential\n",
    "from keras.layers import Dense, Dropout, LeakyReLU, PReLU, ELU"
   ]
  },
  {
   "cell_type": "code",
   "execution_count": 44,
   "id": "8f0f53ef",
   "metadata": {},
   "outputs": [
    {
     "name": "stdout",
     "output_type": "stream",
     "text": [
      "Epoch 1/100\n",
      "536/536 [==============================] - 5s 7ms/step - loss: 0.5050 - accuracy: 0.7901 - val_loss: 0.4657 - val_accuracy: 0.7989\n",
      "Epoch 2/100\n",
      "536/536 [==============================] - 5s 8ms/step - loss: 0.4484 - accuracy: 0.7992 - val_loss: 0.4405 - val_accuracy: 0.8001\n",
      "Epoch 3/100\n",
      "536/536 [==============================] - 4s 7ms/step - loss: 0.4259 - accuracy: 0.8048 - val_loss: 0.4265 - val_accuracy: 0.8039\n",
      "Epoch 4/100\n",
      "536/536 [==============================] - 3s 6ms/step - loss: 0.4098 - accuracy: 0.8108 - val_loss: 0.4153 - val_accuracy: 0.8088\n",
      "Epoch 5/100\n",
      "536/536 [==============================] - 4s 7ms/step - loss: 0.3974 - accuracy: 0.8169 - val_loss: 0.4056 - val_accuracy: 0.8145\n",
      "Epoch 6/100\n",
      "536/536 [==============================] - 4s 7ms/step - loss: 0.3883 - accuracy: 0.8231 - val_loss: 0.4006 - val_accuracy: 0.8194\n",
      "Epoch 7/100\n",
      "536/536 [==============================] - 4s 8ms/step - loss: 0.3810 - accuracy: 0.8326 - val_loss: 0.3934 - val_accuracy: 0.8307\n",
      "Epoch 8/100\n",
      "536/536 [==============================] - 5s 10ms/step - loss: 0.3750 - accuracy: 0.8354 - val_loss: 0.3887 - val_accuracy: 0.8330\n",
      "Epoch 9/100\n",
      "536/536 [==============================] - 4s 7ms/step - loss: 0.3691 - accuracy: 0.8403 - val_loss: 0.3844 - val_accuracy: 0.8368\n",
      "Epoch 10/100\n",
      "536/536 [==============================] - 3s 6ms/step - loss: 0.3643 - accuracy: 0.8419 - val_loss: 0.3804 - val_accuracy: 0.8429\n",
      "Epoch 11/100\n",
      "536/536 [==============================] - 6s 11ms/step - loss: 0.3597 - accuracy: 0.8442 - val_loss: 0.3772 - val_accuracy: 0.8432\n",
      "Epoch 12/100\n",
      "536/536 [==============================] - 5s 10ms/step - loss: 0.3559 - accuracy: 0.8479 - val_loss: 0.3733 - val_accuracy: 0.8451\n",
      "Epoch 13/100\n",
      "536/536 [==============================] - 5s 8ms/step - loss: 0.3518 - accuracy: 0.8509 - val_loss: 0.3702 - val_accuracy: 0.8463\n",
      "Epoch 14/100\n",
      "536/536 [==============================] - 4s 7ms/step - loss: 0.3487 - accuracy: 0.8518 - val_loss: 0.3690 - val_accuracy: 0.8463\n",
      "Epoch 15/100\n",
      "536/536 [==============================] - 6s 11ms/step - loss: 0.3464 - accuracy: 0.8513 - val_loss: 0.3660 - val_accuracy: 0.8523\n",
      "Epoch 16/100\n",
      "536/536 [==============================] - 4s 8ms/step - loss: 0.3445 - accuracy: 0.8563 - val_loss: 0.3657 - val_accuracy: 0.8482\n",
      "Epoch 17/100\n",
      "536/536 [==============================] - 5s 9ms/step - loss: 0.3426 - accuracy: 0.8543 - val_loss: 0.3628 - val_accuracy: 0.8519\n",
      "Epoch 18/100\n",
      "536/536 [==============================] - 5s 9ms/step - loss: 0.3415 - accuracy: 0.8563 - val_loss: 0.3631 - val_accuracy: 0.8519\n",
      "Epoch 19/100\n",
      "536/536 [==============================] - 4s 6ms/step - loss: 0.3401 - accuracy: 0.8586 - val_loss: 0.3625 - val_accuracy: 0.8527\n",
      "Epoch 20/100\n",
      "536/536 [==============================] - 3s 6ms/step - loss: 0.3392 - accuracy: 0.8604 - val_loss: 0.3626 - val_accuracy: 0.8497\n",
      "Epoch 21/100\n",
      "536/536 [==============================] - 3s 5ms/step - loss: 0.3382 - accuracy: 0.8582 - val_loss: 0.3618 - val_accuracy: 0.8512\n",
      "Epoch 22/100\n",
      "536/536 [==============================] - 3s 6ms/step - loss: 0.3383 - accuracy: 0.8578 - val_loss: 0.3601 - val_accuracy: 0.8512\n",
      "Epoch 23/100\n",
      "536/536 [==============================] - 5s 10ms/step - loss: 0.3375 - accuracy: 0.8612 - val_loss: 0.3601 - val_accuracy: 0.8504\n",
      "Epoch 24/100\n",
      "536/536 [==============================] - 5s 10ms/step - loss: 0.3371 - accuracy: 0.8597 - val_loss: 0.3596 - val_accuracy: 0.8504\n",
      "Epoch 25/100\n",
      "536/536 [==============================] - 5s 9ms/step - loss: 0.3360 - accuracy: 0.8608 - val_loss: 0.3582 - val_accuracy: 0.8523\n",
      "Epoch 26/100\n",
      "536/536 [==============================] - 4s 7ms/step - loss: 0.3359 - accuracy: 0.8610 - val_loss: 0.3589 - val_accuracy: 0.8531\n",
      "Epoch 27/100\n",
      "536/536 [==============================] - 5s 10ms/step - loss: 0.3350 - accuracy: 0.8614 - val_loss: 0.3581 - val_accuracy: 0.8497\n",
      "Epoch 28/100\n",
      "536/536 [==============================] - 5s 9ms/step - loss: 0.3346 - accuracy: 0.8608 - val_loss: 0.3592 - val_accuracy: 0.8516\n",
      "Epoch 29/100\n",
      "536/536 [==============================] - 5s 9ms/step - loss: 0.3351 - accuracy: 0.8619 - val_loss: 0.3586 - val_accuracy: 0.8516\n",
      "Epoch 30/100\n",
      "536/536 [==============================] - 3s 5ms/step - loss: 0.3342 - accuracy: 0.8597 - val_loss: 0.3580 - val_accuracy: 0.8497\n",
      "Epoch 31/100\n",
      "536/536 [==============================] - 3s 5ms/step - loss: 0.3340 - accuracy: 0.8619 - val_loss: 0.3571 - val_accuracy: 0.8497\n",
      "Epoch 32/100\n",
      "536/536 [==============================] - 3s 6ms/step - loss: 0.3341 - accuracy: 0.8625 - val_loss: 0.3582 - val_accuracy: 0.8516\n",
      "Epoch 33/100\n",
      "536/536 [==============================] - 5s 10ms/step - loss: 0.3335 - accuracy: 0.8621 - val_loss: 0.3571 - val_accuracy: 0.8516\n",
      "Epoch 34/100\n",
      "536/536 [==============================] - 4s 8ms/step - loss: 0.3331 - accuracy: 0.8636 - val_loss: 0.3583 - val_accuracy: 0.8501\n",
      "Epoch 35/100\n",
      "536/536 [==============================] - 6s 11ms/step - loss: 0.3329 - accuracy: 0.8608 - val_loss: 0.3580 - val_accuracy: 0.8516\n",
      "Epoch 36/100\n",
      "536/536 [==============================] - 5s 10ms/step - loss: 0.3329 - accuracy: 0.8627 - val_loss: 0.3577 - val_accuracy: 0.8504\n",
      "Epoch 37/100\n",
      "536/536 [==============================] - 5s 9ms/step - loss: 0.3324 - accuracy: 0.8623 - val_loss: 0.3571 - val_accuracy: 0.8493\n",
      "Epoch 38/100\n",
      "536/536 [==============================] - 4s 8ms/step - loss: 0.3322 - accuracy: 0.8628 - val_loss: 0.3568 - val_accuracy: 0.8501\n",
      "Epoch 39/100\n",
      "536/536 [==============================] - 5s 9ms/step - loss: 0.3323 - accuracy: 0.8627 - val_loss: 0.3561 - val_accuracy: 0.8485\n",
      "Epoch 40/100\n",
      "536/536 [==============================] - 5s 9ms/step - loss: 0.3316 - accuracy: 0.8619 - val_loss: 0.3559 - val_accuracy: 0.8523\n",
      "Epoch 41/100\n",
      "536/536 [==============================] - 4s 8ms/step - loss: 0.3317 - accuracy: 0.8627 - val_loss: 0.3556 - val_accuracy: 0.8512\n",
      "Epoch 42/100\n",
      "536/536 [==============================] - 4s 8ms/step - loss: 0.3314 - accuracy: 0.8619 - val_loss: 0.3565 - val_accuracy: 0.8516\n",
      "Epoch 43/100\n",
      "536/536 [==============================] - 4s 7ms/step - loss: 0.3308 - accuracy: 0.8627 - val_loss: 0.3579 - val_accuracy: 0.8512\n",
      "Epoch 44/100\n",
      "536/536 [==============================] - 4s 7ms/step - loss: 0.3313 - accuracy: 0.8647 - val_loss: 0.3583 - val_accuracy: 0.8489\n",
      "Epoch 45/100\n",
      "536/536 [==============================] - 4s 7ms/step - loss: 0.3308 - accuracy: 0.8627 - val_loss: 0.3551 - val_accuracy: 0.8508\n",
      "Epoch 46/100\n",
      "536/536 [==============================] - 4s 7ms/step - loss: 0.3309 - accuracy: 0.8638 - val_loss: 0.3569 - val_accuracy: 0.8504\n",
      "Epoch 47/100\n",
      "536/536 [==============================] - 4s 7ms/step - loss: 0.3309 - accuracy: 0.8636 - val_loss: 0.3555 - val_accuracy: 0.8516\n",
      "Epoch 48/100\n",
      "536/536 [==============================] - 4s 7ms/step - loss: 0.3308 - accuracy: 0.8623 - val_loss: 0.3567 - val_accuracy: 0.8516\n",
      "Epoch 49/100\n",
      "536/536 [==============================] - 3s 6ms/step - loss: 0.3304 - accuracy: 0.8642 - val_loss: 0.3554 - val_accuracy: 0.8516\n",
      "Epoch 50/100\n",
      "536/536 [==============================] - 4s 7ms/step - loss: 0.3304 - accuracy: 0.8628 - val_loss: 0.3558 - val_accuracy: 0.8512\n",
      "Epoch 51/100\n",
      "536/536 [==============================] - 5s 9ms/step - loss: 0.3306 - accuracy: 0.8642 - val_loss: 0.3559 - val_accuracy: 0.8497\n",
      "Epoch 52/100\n",
      "536/536 [==============================] - 3s 6ms/step - loss: 0.3296 - accuracy: 0.8625 - val_loss: 0.3555 - val_accuracy: 0.8478\n",
      "Epoch 53/100\n",
      "536/536 [==============================] - 5s 9ms/step - loss: 0.3304 - accuracy: 0.8615 - val_loss: 0.3560 - val_accuracy: 0.8519\n",
      "Epoch 54/100\n",
      "536/536 [==============================] - 4s 8ms/step - loss: 0.3301 - accuracy: 0.8634 - val_loss: 0.3565 - val_accuracy: 0.8485\n",
      "Epoch 55/100\n",
      "536/536 [==============================] - 5s 9ms/step - loss: 0.3305 - accuracy: 0.8625 - val_loss: 0.3567 - val_accuracy: 0.8485\n",
      "Epoch 56/100\n",
      "536/536 [==============================] - 4s 7ms/step - loss: 0.3302 - accuracy: 0.8628 - val_loss: 0.3562 - val_accuracy: 0.8501\n",
      "Epoch 57/100\n",
      "536/536 [==============================] - 5s 9ms/step - loss: 0.3296 - accuracy: 0.8642 - val_loss: 0.3559 - val_accuracy: 0.8474\n"
     ]
    },
    {
     "name": "stdout",
     "output_type": "stream",
     "text": [
      "Epoch 58/100\n",
      "536/536 [==============================] - 7s 13ms/step - loss: 0.3295 - accuracy: 0.8634 - val_loss: 0.3564 - val_accuracy: 0.8497\n",
      "Epoch 59/100\n",
      "536/536 [==============================] - 5s 10ms/step - loss: 0.3300 - accuracy: 0.8615 - val_loss: 0.3568 - val_accuracy: 0.8519\n",
      "Epoch 60/100\n",
      "536/536 [==============================] - 7s 12ms/step - loss: 0.3296 - accuracy: 0.8636 - val_loss: 0.3567 - val_accuracy: 0.8493\n",
      "Epoch 61/100\n",
      "536/536 [==============================] - 5s 8ms/step - loss: 0.3294 - accuracy: 0.8623 - val_loss: 0.3567 - val_accuracy: 0.8489\n",
      "Epoch 62/100\n",
      "536/536 [==============================] - 4s 7ms/step - loss: 0.3296 - accuracy: 0.8638 - val_loss: 0.3562 - val_accuracy: 0.8478\n",
      "Epoch 63/100\n",
      "536/536 [==============================] - 4s 7ms/step - loss: 0.3292 - accuracy: 0.8623 - val_loss: 0.3574 - val_accuracy: 0.8478\n",
      "Epoch 64/100\n",
      "536/536 [==============================] - 3s 5ms/step - loss: 0.3297 - accuracy: 0.8640 - val_loss: 0.3571 - val_accuracy: 0.8512\n",
      "Epoch 65/100\n",
      "536/536 [==============================] - 3s 6ms/step - loss: 0.3294 - accuracy: 0.8636 - val_loss: 0.3571 - val_accuracy: 0.8463\n",
      "Epoch 66/100\n",
      "536/536 [==============================] - 5s 10ms/step - loss: 0.3292 - accuracy: 0.8655 - val_loss: 0.3569 - val_accuracy: 0.8504\n",
      "Epoch 67/100\n",
      "536/536 [==============================] - 6s 10ms/step - loss: 0.3295 - accuracy: 0.8632 - val_loss: 0.3553 - val_accuracy: 0.8466\n",
      "Epoch 68/100\n",
      "536/536 [==============================] - 5s 10ms/step - loss: 0.3287 - accuracy: 0.8636 - val_loss: 0.3574 - val_accuracy: 0.8474\n",
      "Epoch 69/100\n",
      "536/536 [==============================] - 2s 4ms/step - loss: 0.3291 - accuracy: 0.8623 - val_loss: 0.3557 - val_accuracy: 0.8493\n",
      "Epoch 70/100\n",
      "536/536 [==============================] - 5s 9ms/step - loss: 0.3292 - accuracy: 0.8638 - val_loss: 0.3565 - val_accuracy: 0.8493\n",
      "Epoch 71/100\n",
      "536/536 [==============================] - 5s 9ms/step - loss: 0.3293 - accuracy: 0.8642 - val_loss: 0.3556 - val_accuracy: 0.8478\n",
      "Epoch 72/100\n",
      "536/536 [==============================] - 6s 10ms/step - loss: 0.3289 - accuracy: 0.8621 - val_loss: 0.3559 - val_accuracy: 0.8493\n",
      "Epoch 73/100\n",
      "536/536 [==============================] - 5s 9ms/step - loss: 0.3286 - accuracy: 0.8638 - val_loss: 0.3567 - val_accuracy: 0.8478\n",
      "Epoch 74/100\n",
      "536/536 [==============================] - 4s 7ms/step - loss: 0.3287 - accuracy: 0.8628 - val_loss: 0.3570 - val_accuracy: 0.8474\n",
      "Epoch 75/100\n",
      "536/536 [==============================] - 4s 8ms/step - loss: 0.3285 - accuracy: 0.8638 - val_loss: 0.3558 - val_accuracy: 0.8493\n",
      "Epoch 76/100\n",
      "536/536 [==============================] - 5s 9ms/step - loss: 0.3291 - accuracy: 0.8630 - val_loss: 0.3566 - val_accuracy: 0.8485\n",
      "Epoch 77/100\n",
      "536/536 [==============================] - 5s 9ms/step - loss: 0.3286 - accuracy: 0.8632 - val_loss: 0.3550 - val_accuracy: 0.8512\n",
      "Epoch 78/100\n",
      "536/536 [==============================] - 5s 9ms/step - loss: 0.3286 - accuracy: 0.8628 - val_loss: 0.3557 - val_accuracy: 0.8508\n",
      "Epoch 79/100\n",
      "536/536 [==============================] - 4s 7ms/step - loss: 0.3285 - accuracy: 0.8636 - val_loss: 0.3550 - val_accuracy: 0.8478\n",
      "Epoch 80/100\n",
      "536/536 [==============================] - 5s 9ms/step - loss: 0.3285 - accuracy: 0.8617 - val_loss: 0.3550 - val_accuracy: 0.8497\n",
      "Epoch 81/100\n",
      "536/536 [==============================] - 3s 6ms/step - loss: 0.3281 - accuracy: 0.8649 - val_loss: 0.3566 - val_accuracy: 0.8470\n",
      "Epoch 82/100\n",
      "536/536 [==============================] - 4s 8ms/step - loss: 0.3288 - accuracy: 0.8625 - val_loss: 0.3557 - val_accuracy: 0.8485\n",
      "Epoch 83/100\n",
      "536/536 [==============================] - 5s 9ms/step - loss: 0.3278 - accuracy: 0.8643 - val_loss: 0.3571 - val_accuracy: 0.8516\n",
      "Epoch 84/100\n",
      "536/536 [==============================] - 5s 9ms/step - loss: 0.3283 - accuracy: 0.8636 - val_loss: 0.3545 - val_accuracy: 0.8485\n",
      "Epoch 85/100\n",
      "536/536 [==============================] - 4s 8ms/step - loss: 0.3283 - accuracy: 0.8632 - val_loss: 0.3541 - val_accuracy: 0.8531\n",
      "Epoch 86/100\n",
      "536/536 [==============================] - 4s 8ms/step - loss: 0.3281 - accuracy: 0.8632 - val_loss: 0.3549 - val_accuracy: 0.8501\n",
      "Epoch 87/100\n",
      "536/536 [==============================] - 3s 6ms/step - loss: 0.3279 - accuracy: 0.8640 - val_loss: 0.3555 - val_accuracy: 0.8516\n",
      "Epoch 88/100\n",
      "536/536 [==============================] - 4s 8ms/step - loss: 0.3280 - accuracy: 0.8634 - val_loss: 0.3566 - val_accuracy: 0.8512\n",
      "Epoch 89/100\n",
      "536/536 [==============================] - 4s 8ms/step - loss: 0.3281 - accuracy: 0.8634 - val_loss: 0.3556 - val_accuracy: 0.8463\n",
      "Epoch 90/100\n",
      "536/536 [==============================] - 4s 7ms/step - loss: 0.3277 - accuracy: 0.8668 - val_loss: 0.3550 - val_accuracy: 0.8508\n",
      "Epoch 91/100\n",
      "536/536 [==============================] - 5s 8ms/step - loss: 0.3283 - accuracy: 0.8640 - val_loss: 0.3544 - val_accuracy: 0.8512\n",
      "Epoch 92/100\n",
      "536/536 [==============================] - 4s 8ms/step - loss: 0.3281 - accuracy: 0.8655 - val_loss: 0.3543 - val_accuracy: 0.8485\n",
      "Epoch 93/100\n",
      "536/536 [==============================] - 4s 7ms/step - loss: 0.3278 - accuracy: 0.8656 - val_loss: 0.3551 - val_accuracy: 0.8516\n",
      "Epoch 94/100\n",
      "536/536 [==============================] - 4s 7ms/step - loss: 0.3275 - accuracy: 0.8645 - val_loss: 0.3556 - val_accuracy: 0.8485\n",
      "Epoch 95/100\n",
      "536/536 [==============================] - 4s 8ms/step - loss: 0.3278 - accuracy: 0.8653 - val_loss: 0.3556 - val_accuracy: 0.8466\n",
      "Epoch 96/100\n",
      "536/536 [==============================] - 3s 6ms/step - loss: 0.3280 - accuracy: 0.8617 - val_loss: 0.3549 - val_accuracy: 0.8493\n",
      "Epoch 97/100\n",
      "536/536 [==============================] - 3s 6ms/step - loss: 0.3277 - accuracy: 0.8636 - val_loss: 0.3544 - val_accuracy: 0.8489\n",
      "Epoch 98/100\n",
      "536/536 [==============================] - 4s 7ms/step - loss: 0.3273 - accuracy: 0.8638 - val_loss: 0.3544 - val_accuracy: 0.8478\n",
      "Epoch 99/100\n",
      "536/536 [==============================] - 4s 7ms/step - loss: 0.3277 - accuracy: 0.8630 - val_loss: 0.3547 - val_accuracy: 0.8478\n",
      "Epoch 100/100\n",
      "536/536 [==============================] - 3s 5ms/step - loss: 0.3274 - accuracy: 0.8647 - val_loss: 0.3552 - val_accuracy: 0.8474\n"
     ]
    }
   ],
   "source": [
    "# initialing the ANN\n",
    "\n",
    "classifier=Sequential()\n",
    "\n",
    "# Creating input layer\n",
    "classifier.add(Dense(units=6, kernel_initializer='he_uniform', activation='relu', input_dim=11))\n",
    "\n",
    "# Creating Hiddenlayer\n",
    "classifier.add(Dense(units=6,kernel_initializer='he_uniform', activation='relu'))\n",
    "\n",
    "#Creating Outputlayer\n",
    "classifier.add(Dense(units=1, kernel_initializer='glorot_uniform', activation='sigmoid'))\n",
    "\n",
    "# Compiler\n",
    "classifier.compile(optimizer='adam', loss='binary_crossentropy', metrics=['accuracy'])\n",
    "\n",
    "# Fitting the model\n",
    "model_history=classifier.fit(X_train,y_train, validation_split=0.33, batch_size=10, epochs=100)"
   ]
  },
  {
   "cell_type": "code",
   "execution_count": 46,
   "id": "33a37a82",
   "metadata": {},
   "outputs": [
    {
     "name": "stdout",
     "output_type": "stream",
     "text": [
      "63/63 [==============================] - 0s 5ms/step\n"
     ]
    }
   ],
   "source": [
    "# prediting for test data\n",
    "\n",
    "y_pred=classifier.predict(X_test)\n",
    "y_pred=(y_pred>0.5)"
   ]
  },
  {
   "cell_type": "code",
   "execution_count": 48,
   "id": "37d3dc80",
   "metadata": {},
   "outputs": [
    {
     "data": {
      "text/plain": [
       "array([[1524,   71],\n",
       "       [ 217,  188]], dtype=int64)"
      ]
     },
     "execution_count": 48,
     "metadata": {},
     "output_type": "execute_result"
    }
   ],
   "source": [
    "# Making confusion matrix\n",
    "from sklearn.metrics import confusion_matrix\n",
    "\n",
    "cm=confusion_matrix(y_test,y_pred)\n",
    "cm"
   ]
  },
  {
   "cell_type": "code",
   "execution_count": 50,
   "id": "3a9c3b61",
   "metadata": {},
   "outputs": [
    {
     "data": {
      "text/plain": [
       "0.856"
      ]
     },
     "execution_count": 50,
     "metadata": {},
     "output_type": "execute_result"
    }
   ],
   "source": [
    "# Calculating accuracy\n",
    "from sklearn.metrics import accuracy_score\n",
    "score=accuracy_score(y_test,y_pred)\n",
    "score"
   ]
  },
  {
   "cell_type": "code",
   "execution_count": 52,
   "id": "c061b324",
   "metadata": {},
   "outputs": [
    {
     "name": "stdout",
     "output_type": "stream",
     "text": [
      "Epoch 1/50\n",
      "536/536 [==============================] - 7s 10ms/step - loss: 0.5772 - accuracy: 0.7705 - val_loss: 0.4859 - val_accuracy: 0.7955\n",
      "Epoch 2/50\n",
      "536/536 [==============================] - 5s 9ms/step - loss: 0.5131 - accuracy: 0.7916 - val_loss: 0.4754 - val_accuracy: 0.7955\n",
      "Epoch 3/50\n",
      "536/536 [==============================] - 3s 6ms/step - loss: 0.4929 - accuracy: 0.7946 - val_loss: 0.4648 - val_accuracy: 0.7955\n",
      "Epoch 4/50\n",
      "536/536 [==============================] - 2s 4ms/step - loss: 0.4729 - accuracy: 0.7949 - val_loss: 0.4543 - val_accuracy: 0.7955\n",
      "Epoch 5/50\n",
      "536/536 [==============================] - 4s 7ms/step - loss: 0.4696 - accuracy: 0.7957 - val_loss: 0.4484 - val_accuracy: 0.7955\n",
      "Epoch 6/50\n",
      "536/536 [==============================] - 7s 12ms/step - loss: 0.4622 - accuracy: 0.7960 - val_loss: 0.4437 - val_accuracy: 0.7955\n",
      "Epoch 7/50\n",
      "536/536 [==============================] - 4s 7ms/step - loss: 0.4603 - accuracy: 0.7962 - val_loss: 0.4386 - val_accuracy: 0.7955\n",
      "Epoch 8/50\n",
      "536/536 [==============================] - 4s 8ms/step - loss: 0.4558 - accuracy: 0.7962 - val_loss: 0.4383 - val_accuracy: 0.7955\n",
      "Epoch 9/50\n",
      "536/536 [==============================] - 5s 10ms/step - loss: 0.4439 - accuracy: 0.7962 - val_loss: 0.4380 - val_accuracy: 0.7955\n",
      "Epoch 10/50\n",
      "536/536 [==============================] - 5s 9ms/step - loss: 0.4519 - accuracy: 0.7962 - val_loss: 0.4384 - val_accuracy: 0.7955\n",
      "Epoch 11/50\n",
      "536/536 [==============================] - 4s 8ms/step - loss: 0.4504 - accuracy: 0.7962 - val_loss: 0.4367 - val_accuracy: 0.7955\n",
      "Epoch 12/50\n",
      "536/536 [==============================] - 4s 8ms/step - loss: 0.4492 - accuracy: 0.7962 - val_loss: 0.4335 - val_accuracy: 0.7955\n",
      "Epoch 13/50\n",
      "536/536 [==============================] - 5s 9ms/step - loss: 0.4489 - accuracy: 0.7962 - val_loss: 0.4333 - val_accuracy: 0.7955\n",
      "Epoch 14/50\n",
      "536/536 [==============================] - 4s 8ms/step - loss: 0.4471 - accuracy: 0.7962 - val_loss: 0.4334 - val_accuracy: 0.7955\n",
      "Epoch 15/50\n",
      "536/536 [==============================] - 5s 9ms/step - loss: 0.4428 - accuracy: 0.7962 - val_loss: 0.4323 - val_accuracy: 0.7955\n",
      "Epoch 16/50\n",
      "536/536 [==============================] - 4s 7ms/step - loss: 0.4489 - accuracy: 0.7962 - val_loss: 0.4354 - val_accuracy: 0.7955\n",
      "Epoch 17/50\n",
      "536/536 [==============================] - 4s 7ms/step - loss: 0.4449 - accuracy: 0.7962 - val_loss: 0.4346 - val_accuracy: 0.7955\n",
      "Epoch 18/50\n",
      "536/536 [==============================] - 5s 10ms/step - loss: 0.4444 - accuracy: 0.7962 - val_loss: 0.4332 - val_accuracy: 0.7955\n",
      "Epoch 19/50\n",
      "536/536 [==============================] - 5s 10ms/step - loss: 0.4426 - accuracy: 0.7962 - val_loss: 0.4336 - val_accuracy: 0.7955\n",
      "Epoch 20/50\n",
      "536/536 [==============================] - 3s 5ms/step - loss: 0.4427 - accuracy: 0.7962 - val_loss: 0.4320 - val_accuracy: 0.7955\n",
      "Epoch 21/50\n",
      "536/536 [==============================] - 5s 9ms/step - loss: 0.4430 - accuracy: 0.7962 - val_loss: 0.4311 - val_accuracy: 0.7955\n",
      "Epoch 22/50\n",
      "536/536 [==============================] - 5s 9ms/step - loss: 0.4421 - accuracy: 0.7962 - val_loss: 0.4306 - val_accuracy: 0.7955\n",
      "Epoch 23/50\n",
      "536/536 [==============================] - 3s 6ms/step - loss: 0.4443 - accuracy: 0.7962 - val_loss: 0.4298 - val_accuracy: 0.7955\n",
      "Epoch 24/50\n",
      "536/536 [==============================] - 5s 9ms/step - loss: 0.4357 - accuracy: 0.7962 - val_loss: 0.4337 - val_accuracy: 0.7955\n",
      "Epoch 25/50\n",
      "536/536 [==============================] - 6s 11ms/step - loss: 0.4428 - accuracy: 0.7962 - val_loss: 0.4352 - val_accuracy: 0.7955\n",
      "Epoch 26/50\n",
      "536/536 [==============================] - 3s 5ms/step - loss: 0.4407 - accuracy: 0.7962 - val_loss: 0.4304 - val_accuracy: 0.7955\n",
      "Epoch 27/50\n",
      "536/536 [==============================] - 3s 6ms/step - loss: 0.4374 - accuracy: 0.7962 - val_loss: 0.4304 - val_accuracy: 0.7955\n",
      "Epoch 28/50\n",
      "536/536 [==============================] - 5s 9ms/step - loss: 0.4413 - accuracy: 0.7962 - val_loss: 0.4311 - val_accuracy: 0.7955\n",
      "Epoch 29/50\n",
      "536/536 [==============================] - 5s 8ms/step - loss: 0.4413 - accuracy: 0.7962 - val_loss: 0.4282 - val_accuracy: 0.7955\n",
      "Epoch 30/50\n",
      "536/536 [==============================] - 6s 11ms/step - loss: 0.4383 - accuracy: 0.7962 - val_loss: 0.4298 - val_accuracy: 0.7955\n",
      "Epoch 31/50\n",
      "536/536 [==============================] - 3s 6ms/step - loss: 0.4438 - accuracy: 0.7962 - val_loss: 0.4305 - val_accuracy: 0.7955\n",
      "Epoch 32/50\n",
      "536/536 [==============================] - 4s 8ms/step - loss: 0.4426 - accuracy: 0.7962 - val_loss: 0.4300 - val_accuracy: 0.7955\n",
      "Epoch 33/50\n",
      "536/536 [==============================] - 5s 9ms/step - loss: 0.4435 - accuracy: 0.7962 - val_loss: 0.4279 - val_accuracy: 0.7955\n",
      "Epoch 34/50\n",
      "536/536 [==============================] - 3s 6ms/step - loss: 0.4388 - accuracy: 0.7962 - val_loss: 0.4288 - val_accuracy: 0.7955\n",
      "Epoch 35/50\n",
      "536/536 [==============================] - 6s 11ms/step - loss: 0.4388 - accuracy: 0.7962 - val_loss: 0.4267 - val_accuracy: 0.7955\n",
      "Epoch 36/50\n",
      "536/536 [==============================] - 4s 7ms/step - loss: 0.4375 - accuracy: 0.7962 - val_loss: 0.4268 - val_accuracy: 0.7955\n",
      "Epoch 37/50\n",
      "536/536 [==============================] - 5s 9ms/step - loss: 0.4393 - accuracy: 0.7962 - val_loss: 0.4262 - val_accuracy: 0.7955\n",
      "Epoch 38/50\n",
      "536/536 [==============================] - 4s 8ms/step - loss: 0.4369 - accuracy: 0.7962 - val_loss: 0.4257 - val_accuracy: 0.7955\n",
      "Epoch 39/50\n",
      "536/536 [==============================] - 3s 6ms/step - loss: 0.4396 - accuracy: 0.7962 - val_loss: 0.4271 - val_accuracy: 0.7955\n",
      "Epoch 40/50\n",
      "536/536 [==============================] - 3s 6ms/step - loss: 0.4366 - accuracy: 0.7962 - val_loss: 0.4261 - val_accuracy: 0.7955\n",
      "Epoch 41/50\n",
      "536/536 [==============================] - 4s 8ms/step - loss: 0.4382 - accuracy: 0.7962 - val_loss: 0.4251 - val_accuracy: 0.7955\n",
      "Epoch 42/50\n",
      "536/536 [==============================] - 4s 7ms/step - loss: 0.4382 - accuracy: 0.7962 - val_loss: 0.4261 - val_accuracy: 0.7955\n",
      "Epoch 43/50\n",
      "536/536 [==============================] - 5s 9ms/step - loss: 0.4376 - accuracy: 0.7962 - val_loss: 0.4268 - val_accuracy: 0.7955\n",
      "Epoch 44/50\n",
      "536/536 [==============================] - 5s 9ms/step - loss: 0.4385 - accuracy: 0.7962 - val_loss: 0.4257 - val_accuracy: 0.7955\n",
      "Epoch 45/50\n",
      "536/536 [==============================] - 4s 8ms/step - loss: 0.4394 - accuracy: 0.7962 - val_loss: 0.4269 - val_accuracy: 0.7955\n",
      "Epoch 46/50\n",
      "536/536 [==============================] - 4s 8ms/step - loss: 0.4409 - accuracy: 0.7962 - val_loss: 0.4258 - val_accuracy: 0.7955\n",
      "Epoch 47/50\n",
      "536/536 [==============================] - 3s 6ms/step - loss: 0.4380 - accuracy: 0.7962 - val_loss: 0.4241 - val_accuracy: 0.7955\n",
      "Epoch 48/50\n",
      "536/536 [==============================] - 4s 7ms/step - loss: 0.4375 - accuracy: 0.7962 - val_loss: 0.4258 - val_accuracy: 0.7955\n",
      "Epoch 49/50\n",
      "536/536 [==============================] - 4s 8ms/step - loss: 0.4366 - accuracy: 0.7962 - val_loss: 0.4243 - val_accuracy: 0.7955\n",
      "Epoch 50/50\n",
      "536/536 [==============================] - 5s 9ms/step - loss: 0.4424 - accuracy: 0.7962 - val_loss: 0.4251 - val_accuracy: 0.7955\n"
     ]
    }
   ],
   "source": [
    "# initialing the ANN with Dropout\n",
    "\n",
    "classifier=Sequential()\n",
    "\n",
    "# Creating input layer\n",
    "classifier.add(Dense(units=6, kernel_initializer='he_uniform', activation='relu', input_dim=11))\n",
    "classifier.add(Dropout(0.2))\n",
    "\n",
    "# Creating Hiddenlayer\n",
    "classifier.add(Dense(units=6,kernel_initializer='he_uniform', activation='relu'))\n",
    "classifier.add(Dropout(0.2))\n",
    "\n",
    "# Creating Hiddenlayer\n",
    "classifier.add(Dense(units=6,kernel_initializer='he_uniform', activation='relu'))\n",
    "classifier.add(Dropout(0.2))\n",
    "\n",
    "#Creating Outputlayer\n",
    "classifier.add(Dense(units=1, kernel_initializer='glorot_uniform', activation='sigmoid'))\n",
    "\n",
    "# Compiler\n",
    "classifier.compile(optimizer='adam', loss='binary_crossentropy', metrics=['accuracy'])\n",
    "\n",
    "# Fitting the model\n",
    "model_history=classifier.fit(X_train,y_train, validation_split=0.33, batch_size=10, epochs=50)"
   ]
  },
  {
   "cell_type": "code",
   "execution_count": 53,
   "id": "ee7afc68",
   "metadata": {},
   "outputs": [
    {
     "name": "stdout",
     "output_type": "stream",
     "text": [
      "63/63 [==============================] - 1s 8ms/step\n"
     ]
    },
    {
     "data": {
      "text/plain": [
       "array([[1595,    0],\n",
       "       [ 405,    0]], dtype=int64)"
      ]
     },
     "execution_count": 53,
     "metadata": {},
     "output_type": "execute_result"
    }
   ],
   "source": [
    "# prediting for test data\n",
    "\n",
    "y_pred=classifier.predict(X_test)\n",
    "y_pred=(y_pred>0.5)\n",
    "\n",
    "# Making confusion matrix\n",
    "from sklearn.metrics import confusion_matrix\n",
    "\n",
    "cm=confusion_matrix(y_test,y_pred)\n",
    "cm"
   ]
  },
  {
   "cell_type": "code",
   "execution_count": 54,
   "id": "f08118d8",
   "metadata": {},
   "outputs": [
    {
     "data": {
      "text/plain": [
       "0.7975"
      ]
     },
     "execution_count": 54,
     "metadata": {},
     "output_type": "execute_result"
    }
   ],
   "source": [
    "# Calculating accuracy\n",
    "from sklearn.metrics import accuracy_score\n",
    "score=accuracy_score(y_test,y_pred)\n",
    "score"
   ]
  },
  {
   "cell_type": "code",
   "execution_count": null,
   "id": "a21a1f73",
   "metadata": {},
   "outputs": [],
   "source": []
  },
  {
   "cell_type": "code",
   "execution_count": null,
   "id": "349d5165",
   "metadata": {},
   "outputs": [],
   "source": []
  },
  {
   "cell_type": "markdown",
   "id": "15c29ffe",
   "metadata": {},
   "source": [
    "### Hyper parameter tuning using GridSearchCv"
   ]
  },
  {
   "cell_type": "code",
   "execution_count": 46,
   "id": "c4da4e88",
   "metadata": {},
   "outputs": [],
   "source": [
    "from keras.wrappers.scikit_learn import KerasClassifier\n",
    "from sklearn.model_selection import GridSearchCV\n",
    "\n",
    "from keras.models import Sequential\n",
    "from keras.layers import Dense, Activation, Embedding, Flatten, LeakyReLU, BatchNormalization, Dropout\n",
    "from keras.activations import relu, sigmoid"
   ]
  },
  {
   "cell_type": "code",
   "execution_count": 51,
   "id": "07b8a08a",
   "metadata": {},
   "outputs": [],
   "source": [
    "def create_model(layers,activation):\n",
    "    model=Sequential()\n",
    "    for i, nodes in enumerate(layers):\n",
    "        if i==0:\n",
    "            model.add(Dense(nodes,input_dim=X_train.shape[1]))\n",
    "            model.add(Activation(activation))\n",
    "            model.add(Dropout(0.3))\n",
    "        else:\n",
    "            model.add(Dense(nodes))\n",
    "            model.add(Activation(activation))\n",
    "            model.add(Dropout(0.3))\n",
    "        \n",
    "    model.add(Dense(units=1, kernel_initializer='glorot_uniform', activation='sigmoid'))\n",
    "    model.compile(optimizer='adam', loss='binary_crossentropy', metrics=[['accuracy']])\n",
    "    return model"
   ]
  },
  {
   "cell_type": "code",
   "execution_count": 52,
   "id": "512fc2e2",
   "metadata": {},
   "outputs": [
    {
     "name": "stderr",
     "output_type": "stream",
     "text": [
      "C:\\Users\\BRAG\\AppData\\Local\\Temp\\ipykernel_7484\\1314563489.py:1: DeprecationWarning: KerasClassifier is deprecated, use Sci-Keras (https://github.com/adriangb/scikeras) instead. See https://www.adriangb.com/scikeras/stable/migration.html for help migrating.\n",
      "  model=KerasClassifier(build_fn=create_model,verbose=0)\n"
     ]
    }
   ],
   "source": [
    "model=KerasClassifier(build_fn=create_model,verbose=0)"
   ]
  },
  {
   "cell_type": "code",
   "execution_count": 53,
   "id": "4535bd27",
   "metadata": {},
   "outputs": [],
   "source": [
    "layers=[[20],[40,20],[45,30,15]]\n",
    "activation=['sigmoid','relu']\n",
    "param_grid=dict(layers=layers, activation= activation, batch_size=[128,256], epochs=[30])\n",
    "grid=GridSearchCV(estimator=model, param_grid=param_grid,cv=5)"
   ]
  },
  {
   "cell_type": "code",
   "execution_count": 54,
   "id": "4bd82d7e",
   "metadata": {},
   "outputs": [],
   "source": [
    "grid_result=grid.fit(X_train,y_train)"
   ]
  },
  {
   "cell_type": "code",
   "execution_count": 55,
   "id": "82247c5f",
   "metadata": {},
   "outputs": [
    {
     "name": "stdout",
     "output_type": "stream",
     "text": [
      "{'activation': 'relu', 'batch_size': 128, 'epochs': 30, 'layers': [45, 30, 15]} 0.8570000052452087\n"
     ]
    }
   ],
   "source": [
    "print(grid_result.best_params_,grid_result.best_score_)"
   ]
  },
  {
   "cell_type": "code",
   "execution_count": 56,
   "id": "198e680c",
   "metadata": {},
   "outputs": [
    {
     "name": "stdout",
     "output_type": "stream",
     "text": [
      "63/63 [==============================] - 0s 1ms/step\n"
     ]
    }
   ],
   "source": [
    "pred_y=grid.predict(X_test)\n",
    "y_pred=(pred_y>0.5)"
   ]
  },
  {
   "cell_type": "code",
   "execution_count": 58,
   "id": "f5f47591",
   "metadata": {},
   "outputs": [
    {
     "data": {
      "text/plain": [
       "array([[1538,  221],\n",
       "       [  57,  184]], dtype=int64)"
      ]
     },
     "execution_count": 58,
     "metadata": {},
     "output_type": "execute_result"
    }
   ],
   "source": [
    "from sklearn.metrics import confusion_matrix, accuracy_score\n",
    "\n",
    "cm=confusion_matrix(y_pred,y_test)\n",
    "cm"
   ]
  },
  {
   "cell_type": "code",
   "execution_count": 59,
   "id": "3c78b423",
   "metadata": {},
   "outputs": [
    {
     "data": {
      "text/plain": [
       "0.861"
      ]
     },
     "execution_count": 59,
     "metadata": {},
     "output_type": "execute_result"
    }
   ],
   "source": [
    "score=accuracy_score(y_pred,y_test)\n",
    "score"
   ]
  },
  {
   "cell_type": "code",
   "execution_count": null,
   "id": "8c69813d",
   "metadata": {},
   "outputs": [],
   "source": []
  },
  {
   "cell_type": "code",
   "execution_count": null,
   "id": "2471998f",
   "metadata": {},
   "outputs": [],
   "source": []
  },
  {
   "cell_type": "markdown",
   "id": "2f18bb01",
   "metadata": {},
   "source": [
    "### Hyperparameter tuning with randomsearch"
   ]
  },
  {
   "cell_type": "code",
   "execution_count": 61,
   "id": "80a57fce",
   "metadata": {},
   "outputs": [
    {
     "name": "stderr",
     "output_type": "stream",
     "text": [
      "C:\\Users\\BRAG\\AppData\\Local\\Temp\\ipykernel_7484\\1847409054.py:4: DeprecationWarning: `import kerastuner` is deprecated, please use `import keras_tuner`.\n",
      "  from kerastuner.tuners import RandomSearch\n"
     ]
    }
   ],
   "source": [
    "import pandas as pd\n",
    "import keras\n",
    "from keras import layers\n",
    "from kerastuner.tuners import RandomSearch"
   ]
  },
  {
   "cell_type": "code",
   "execution_count": 63,
   "id": "cfa48241",
   "metadata": {},
   "outputs": [],
   "source": [
    "def build_model(hp):\n",
    "    model=keras.Sequential()\n",
    "    for i in range(hp.Int('num_layers',2,20)):   # 2, 20 is range 2-20\n",
    "        model.add(layers.Dense(units=hp.Int('units_'+str(i),\n",
    "                                           min_value=32,\n",
    "                                           max_value=512,\n",
    "                                           step=32),\n",
    "                              activation='relu'))\n",
    "        model.add(layers.Dense(1, activation='sigmoid'))\n",
    "        model.compile(\n",
    "                    optimizer=keras.optimizers.Adam(\n",
    "                    hp.Choice('learning_rate',[1e-2,1e-3,1e-4])),\n",
    "                loss='binary_crossentropy',\n",
    "                metrics=['accuracy'])\n",
    "    return model"
   ]
  },
  {
   "cell_type": "code",
   "execution_count": 73,
   "id": "7ffa573d",
   "metadata": {},
   "outputs": [],
   "source": [
    "tuner=RandomSearch(\n",
    "    build_model,\n",
    "    objective='accuracy',\n",
    "    max_trials=5,\n",
    "    executions_per_trial=3,\n",
    "    directory='projec1',\n",
    "    project_name='Binary classification')"
   ]
  },
  {
   "cell_type": "code",
   "execution_count": 74,
   "id": "314b82e6",
   "metadata": {},
   "outputs": [
    {
     "name": "stdout",
     "output_type": "stream",
     "text": [
      "Search space summary\n",
      "Default search space size: 4\n",
      "num_layers (Int)\n",
      "{'default': None, 'conditions': [], 'min_value': 2, 'max_value': 20, 'step': 1, 'sampling': None}\n",
      "units_0 (Int)\n",
      "{'default': None, 'conditions': [], 'min_value': 32, 'max_value': 512, 'step': 32, 'sampling': None}\n",
      "learning_rate (Choice)\n",
      "{'default': 0.01, 'conditions': [], 'values': [0.01, 0.001, 0.0001], 'ordered': True}\n",
      "units_1 (Int)\n",
      "{'default': None, 'conditions': [], 'min_value': 32, 'max_value': 512, 'step': 32, 'sampling': None}\n"
     ]
    }
   ],
   "source": [
    "tuner.search_space_summary()"
   ]
  },
  {
   "cell_type": "code",
   "execution_count": 75,
   "id": "7ad1d075",
   "metadata": {},
   "outputs": [
    {
     "name": "stdout",
     "output_type": "stream",
     "text": [
      "Trial 5 Complete [00h 03m 44s]\n",
      "accuracy: 0.7960000038146973\n",
      "\n",
      "Best accuracy So Far: 0.8610000014305115\n",
      "Total elapsed time: 00h 12m 19s\n",
      "INFO:tensorflow:Oracle triggered exit\n"
     ]
    }
   ],
   "source": [
    "tuner.search(X_train,y_train,epochs=50,validation_data=(X_test,y_test))"
   ]
  },
  {
   "cell_type": "code",
   "execution_count": 76,
   "id": "941bf562",
   "metadata": {},
   "outputs": [
    {
     "name": "stdout",
     "output_type": "stream",
     "text": [
      "Results summary\n",
      "Results in projec1\\Binary classification\n",
      "Showing 10 best trials\n",
      "<keras_tuner.engine.objective.Objective object at 0x00000286E9333F40>\n",
      "Trial summary\n",
      "Hyperparameters:\n",
      "num_layers: 3\n",
      "units_0: 480\n",
      "learning_rate: 0.0001\n",
      "units_1: 160\n",
      "units_2: 288\n",
      "units_3: 160\n",
      "units_4: 480\n",
      "units_5: 448\n",
      "units_6: 448\n",
      "units_7: 288\n",
      "units_8: 320\n",
      "units_9: 224\n",
      "units_10: 128\n",
      "units_11: 128\n",
      "units_12: 288\n",
      "units_13: 480\n",
      "units_14: 96\n",
      "Score: 0.8610000014305115\n",
      "Trial summary\n",
      "Hyperparameters:\n",
      "num_layers: 15\n",
      "units_0: 288\n",
      "learning_rate: 0.001\n",
      "units_1: 32\n",
      "units_2: 32\n",
      "units_3: 32\n",
      "units_4: 32\n",
      "units_5: 32\n",
      "units_6: 32\n",
      "units_7: 32\n",
      "units_8: 32\n",
      "units_9: 32\n",
      "units_10: 32\n",
      "units_11: 32\n",
      "units_12: 32\n",
      "units_13: 32\n",
      "units_14: 32\n",
      "Score: 0.7960000038146973\n",
      "Trial summary\n",
      "Hyperparameters:\n",
      "num_layers: 8\n",
      "units_0: 64\n",
      "learning_rate: 0.01\n",
      "units_1: 64\n",
      "units_2: 288\n",
      "units_3: 320\n",
      "units_4: 384\n",
      "units_5: 320\n",
      "units_6: 256\n",
      "units_7: 352\n",
      "units_8: 192\n",
      "units_9: 352\n",
      "units_10: 480\n",
      "units_11: 288\n",
      "units_12: 320\n",
      "units_13: 256\n",
      "units_14: 64\n",
      "Score: 0.7960000038146973\n",
      "Trial summary\n",
      "Hyperparameters:\n",
      "num_layers: 11\n",
      "units_0: 256\n",
      "learning_rate: 0.001\n",
      "units_1: 352\n",
      "units_2: 480\n",
      "units_3: 352\n",
      "units_4: 128\n",
      "units_5: 128\n",
      "units_6: 288\n",
      "units_7: 224\n",
      "units_8: 96\n",
      "units_9: 32\n",
      "units_10: 256\n",
      "units_11: 416\n",
      "units_12: 96\n",
      "units_13: 480\n",
      "units_14: 96\n",
      "Score: 0.7960000038146973\n",
      "Trial summary\n",
      "Hyperparameters:\n",
      "num_layers: 20\n",
      "units_0: 448\n",
      "learning_rate: 0.0001\n",
      "units_1: 352\n",
      "units_2: 96\n",
      "units_3: 288\n",
      "units_4: 384\n",
      "units_5: 384\n",
      "units_6: 32\n",
      "units_7: 480\n",
      "units_8: 448\n",
      "units_9: 160\n",
      "units_10: 384\n",
      "units_11: 416\n",
      "units_12: 256\n",
      "units_13: 416\n",
      "units_14: 512\n",
      "units_15: 32\n",
      "units_16: 32\n",
      "units_17: 32\n",
      "units_18: 32\n",
      "units_19: 32\n",
      "Score: 0.7960000038146973\n"
     ]
    }
   ],
   "source": [
    "tuner.results_summary()"
   ]
  },
  {
   "cell_type": "code",
   "execution_count": null,
   "id": "58876906",
   "metadata": {},
   "outputs": [],
   "source": []
  }
 ],
 "metadata": {
  "kernelspec": {
   "display_name": "Python 3 (ipykernel)",
   "language": "python",
   "name": "python3"
  },
  "language_info": {
   "codemirror_mode": {
    "name": "ipython",
    "version": 3
   },
   "file_extension": ".py",
   "mimetype": "text/x-python",
   "name": "python",
   "nbconvert_exporter": "python",
   "pygments_lexer": "ipython3",
   "version": "3.9.12"
  }
 },
 "nbformat": 4,
 "nbformat_minor": 5
}
