{
  "nbformat": 4,
  "nbformat_minor": 0,
  "metadata": {
    "colab": {
      "provenance": []
    },
    "kernelspec": {
      "name": "python3",
      "display_name": "Python 3"
    },
    "language_info": {
      "name": "python"
    },
    "accelerator": "GPU"
  },
  "cells": [
    {
      "cell_type": "code",
      "execution_count": 5,
      "metadata": {
        "id": "1t2gfief6joM"
      },
      "outputs": [],
      "source": [
        "## Data augmentation using python and keras\n",
        "from keras.preprocessing.image import ImageDataGenerator, array_to_img, img_to_array, load_img"
      ]
    },
    {
      "cell_type": "code",
      "source": [
        "datagen=ImageDataGenerator(\n",
        "    rotation_range=40,\n",
        "    width_shift_range=0.2,\n",
        "    height_shift_range=0.2,\n",
        "    shear_range=0.2,\n",
        "    zoom_range=0.2,\n",
        "    horizontal_flip=True,\n",
        "    fill_mode='nearest'\n",
        ")"
      ],
      "metadata": {
        "id": "pU34lIC88Jq8"
      },
      "execution_count": 6,
      "outputs": []
    },
    {
      "cell_type": "code",
      "source": [
        "img=load_img('/content/dog.4445.jpg')\n",
        "x=img_to_array(img)\n",
        "x=x.reshape((1,)+x.shape)"
      ],
      "metadata": {
        "id": "zqlTCATf88dE"
      },
      "execution_count": 9,
      "outputs": []
    },
    {
      "cell_type": "code",
      "source": [
        "i=0\n",
        "for batch in datagen.flow(x, batch_size=1,\n",
        "                          save_to_dir='/content/drive/MyDrive/preview', save_prefix='dog', save_format='jpeg'):\n",
        "  i+=1\n",
        "  if i > 20:\n",
        "    break"
      ],
      "metadata": {
        "id": "tad8RL34-Ap9"
      },
      "execution_count": 13,
      "outputs": []
    },
    {
      "cell_type": "code",
      "source": [],
      "metadata": {
        "id": "t2oN6EnO_Cbd"
      },
      "execution_count": null,
      "outputs": []
    }
  ]
}